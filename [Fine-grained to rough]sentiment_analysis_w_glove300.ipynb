{
  "cells": [
    {
      "cell_type": "markdown",
      "metadata": {
        "id": "view-in-github",
        "colab_type": "text"
      },
      "source": [
        "<a href=\"https://colab.research.google.com/github/getitmoon/supersentiment/blob/main/%5BFine-grained%20to%20rough%5Dsentiment_analysis_w_glove300.ipynb\" target=\"_parent\"><img src=\"https://colab.research.google.com/assets/colab-badge.svg\" alt=\"Open In Colab\"/></a>"
      ]
    },
    {
      "cell_type": "raw",
      "metadata": {
        "id": "tihd7wI9CkKt"
      },
      "source": [
        "# **Implementing Transformer**\n",
        "- Please make sure you use GPU by setting the menu: Runtime > change runtime type > GPU"
      ]
    },
    {
      "cell_type": "markdown",
      "metadata": {
        "id": "cdHIPjuECkKw"
      },
      "source": [
        "## **Preparing Data**"
      ]
    },
    {
      "cell_type": "code",
      "execution_count": null,
      "metadata": {
        "collapsed": true,
        "id": "S2fFaOtTCkK0"
      },
      "outputs": [],
      "source": [
        "import torch\n",
        "import torch.nn as nn\n",
        "import torch.optim as optim\n",
        "\n",
        "import numpy as np\n",
        "\n",
        "import random\n",
        "import math\n",
        "import time\n",
        "\n",
        "SEED = 1234\n",
        "\n",
        "random.seed(SEED)\n",
        "np.random.seed(SEED)\n",
        "torch.manual_seed(SEED)\n",
        "torch.cuda.manual_seed(SEED)\n",
        "torch.backends.cudnn.deterministic = True"
      ]
    },
    {
      "cell_type": "markdown",
      "metadata": {
        "id": "_lSc4xywCkK1"
      },
      "source": [
        "### **Tokenizers**\n",
        "- We convert sentences to individual tokens by using tokenizers.\n",
        "  - e.g. \"good morning!\" becomes [\"good\", \"morning\", \"!\"]\n",
        "- We will use python package `spaCy` for this"
      ]
    },
    {
      "cell_type": "code",
      "source": [
        "!pip install datasets"
      ],
      "metadata": {
        "id": "WpO63mRKHVpo",
        "colab": {
          "base_uri": "https://localhost:8080/"
        },
        "outputId": "c85a9bf5-62e0-41b2-8208-e8e0867b3da7"
      },
      "execution_count": null,
      "outputs": [
        {
          "output_type": "stream",
          "name": "stdout",
          "text": [
            "Requirement already satisfied: datasets in /usr/local/lib/python3.10/dist-packages (2.19.2)\n",
            "Requirement already satisfied: filelock in /usr/local/lib/python3.10/dist-packages (from datasets) (3.14.0)\n",
            "Requirement already satisfied: numpy>=1.17 in /usr/local/lib/python3.10/dist-packages (from datasets) (1.25.2)\n",
            "Requirement already satisfied: pyarrow>=12.0.0 in /usr/local/lib/python3.10/dist-packages (from datasets) (14.0.2)\n",
            "Requirement already satisfied: pyarrow-hotfix in /usr/local/lib/python3.10/dist-packages (from datasets) (0.6)\n",
            "Requirement already satisfied: dill<0.3.9,>=0.3.0 in /usr/local/lib/python3.10/dist-packages (from datasets) (0.3.8)\n",
            "Requirement already satisfied: pandas in /usr/local/lib/python3.10/dist-packages (from datasets) (2.0.3)\n",
            "Requirement already satisfied: requests>=2.32.1 in /usr/local/lib/python3.10/dist-packages (from datasets) (2.32.3)\n",
            "Requirement already satisfied: tqdm>=4.62.1 in /usr/local/lib/python3.10/dist-packages (from datasets) (4.66.4)\n",
            "Requirement already satisfied: xxhash in /usr/local/lib/python3.10/dist-packages (from datasets) (3.4.1)\n",
            "Requirement already satisfied: multiprocess in /usr/local/lib/python3.10/dist-packages (from datasets) (0.70.16)\n",
            "Requirement already satisfied: fsspec[http]<=2024.3.1,>=2023.1.0 in /usr/local/lib/python3.10/dist-packages (from datasets) (2023.6.0)\n",
            "Requirement already satisfied: aiohttp in /usr/local/lib/python3.10/dist-packages (from datasets) (3.9.5)\n",
            "Requirement already satisfied: huggingface-hub>=0.21.2 in /usr/local/lib/python3.10/dist-packages (from datasets) (0.23.2)\n",
            "Requirement already satisfied: packaging in /usr/local/lib/python3.10/dist-packages (from datasets) (24.0)\n",
            "Requirement already satisfied: pyyaml>=5.1 in /usr/local/lib/python3.10/dist-packages (from datasets) (6.0.1)\n",
            "Requirement already satisfied: aiosignal>=1.1.2 in /usr/local/lib/python3.10/dist-packages (from aiohttp->datasets) (1.3.1)\n",
            "Requirement already satisfied: attrs>=17.3.0 in /usr/local/lib/python3.10/dist-packages (from aiohttp->datasets) (23.2.0)\n",
            "Requirement already satisfied: frozenlist>=1.1.1 in /usr/local/lib/python3.10/dist-packages (from aiohttp->datasets) (1.4.1)\n",
            "Requirement already satisfied: multidict<7.0,>=4.5 in /usr/local/lib/python3.10/dist-packages (from aiohttp->datasets) (6.0.5)\n",
            "Requirement already satisfied: yarl<2.0,>=1.0 in /usr/local/lib/python3.10/dist-packages (from aiohttp->datasets) (1.9.4)\n",
            "Requirement already satisfied: async-timeout<5.0,>=4.0 in /usr/local/lib/python3.10/dist-packages (from aiohttp->datasets) (4.0.3)\n",
            "Requirement already satisfied: typing-extensions>=3.7.4.3 in /usr/local/lib/python3.10/dist-packages (from huggingface-hub>=0.21.2->datasets) (4.12.1)\n",
            "Requirement already satisfied: charset-normalizer<4,>=2 in /usr/local/lib/python3.10/dist-packages (from requests>=2.32.1->datasets) (3.3.2)\n",
            "Requirement already satisfied: idna<4,>=2.5 in /usr/local/lib/python3.10/dist-packages (from requests>=2.32.1->datasets) (3.7)\n",
            "Requirement already satisfied: urllib3<3,>=1.21.1 in /usr/local/lib/python3.10/dist-packages (from requests>=2.32.1->datasets) (2.0.7)\n",
            "Requirement already satisfied: certifi>=2017.4.17 in /usr/local/lib/python3.10/dist-packages (from requests>=2.32.1->datasets) (2024.6.2)\n",
            "Requirement already satisfied: python-dateutil>=2.8.2 in /usr/local/lib/python3.10/dist-packages (from pandas->datasets) (2.8.2)\n",
            "Requirement already satisfied: pytz>=2020.1 in /usr/local/lib/python3.10/dist-packages (from pandas->datasets) (2023.4)\n",
            "Requirement already satisfied: tzdata>=2022.1 in /usr/local/lib/python3.10/dist-packages (from pandas->datasets) (2024.1)\n",
            "Requirement already satisfied: six>=1.5 in /usr/local/lib/python3.10/dist-packages (from python-dateutil>=2.8.2->pandas->datasets) (1.16.0)\n"
          ]
        }
      ]
    },
    {
      "cell_type": "code",
      "source": [
        "from datasets import list_datasets, load_dataset\n",
        "from pprint import pprint"
      ],
      "metadata": {
        "id": "ukSFH7m7HYay"
      },
      "execution_count": null,
      "outputs": []
    },
    {
      "cell_type": "code",
      "source": [
        "dataset = load_dataset('go_emotions', split=['train', 'validation', 'test'])"
      ],
      "metadata": {
        "id": "ufa4pV2RHcuA"
      },
      "execution_count": null,
      "outputs": []
    },
    {
      "cell_type": "code",
      "source": [
        "raw_train_dataset = dataset[0].map(remove_columns=['id'])"
      ],
      "metadata": {
        "id": "joPHQZq9HfVL"
      },
      "execution_count": null,
      "outputs": []
    },
    {
      "cell_type": "code",
      "source": [
        "raw_validation_dataset = dataset[1].map(remove_columns=['id'])"
      ],
      "metadata": {
        "id": "OhaX7IsPHgA7"
      },
      "execution_count": null,
      "outputs": []
    },
    {
      "cell_type": "code",
      "source": [
        "raw_test_dataset = dataset[2].map(remove_columns=['id'])"
      ],
      "metadata": {
        "id": "9ICxsFGYHhYw"
      },
      "execution_count": null,
      "outputs": []
    },
    {
      "cell_type": "code",
      "source": [
        "# !pip install transformers"
      ],
      "metadata": {
        "id": "tzTj-pqeHj3W"
      },
      "execution_count": null,
      "outputs": []
    },
    {
      "cell_type": "code",
      "source": [
        "# from transformers import BertTokenizerFast, logging as transformers_logging\n",
        "\n",
        "# transformers_logging.set_verbosity_warning()\n",
        "\n",
        "# tokenizer = BertTokenizerFast.from_pretrained('bert-base-cased')"
      ],
      "metadata": {
        "id": "e_6Osb1ZHlfX"
      },
      "execution_count": null,
      "outputs": []
    },
    {
      "cell_type": "code",
      "source": [
        "import spacy\n",
        "\n",
        "spacy_en = spacy.load('en_core_web_sm')\n",
        "\n",
        "def tokenize_en(text):\n",
        "  return [tok.text for tok in spacy_en.tokenizer(text)]"
      ],
      "metadata": {
        "id": "c9rsSBOVDc69",
        "colab": {
          "base_uri": "https://localhost:8080/"
        },
        "outputId": "bf05fb47-5bd3-4e24-bb5b-a26bd7959637"
      },
      "execution_count": null,
      "outputs": [
        {
          "output_type": "stream",
          "name": "stderr",
          "text": [
            "/usr/local/lib/python3.10/dist-packages/spacy/util.py:1740: UserWarning: [W111] Jupyter notebook detected: if using `prefer_gpu()` or `require_gpu()`, include it in the same cell right before `spacy.load()` to ensure that the model is loaded on the correct device. More information: http://spacy.io/usage/v3#jupyter-notebook-gpu\n",
            "  warnings.warn(Warnings.W111)\n"
          ]
        }
      ]
    },
    {
      "cell_type": "code",
      "source": [
        "anger = [2, 13, 10] #3\n",
        "disgust = [11]\n",
        "fear = [14, 22] #19\n",
        "joy = [17, 1, 4, 3, 15,  18, 20, 24, 21, 25, 8, 5] #23 #13 #0\n",
        "sadness =  [0, 9, 12, 16, 23] #24 #25\n",
        "surprise = [26, 19, 6, 7] #22\n",
        "ekman = [anger, disgust, fear, joy, sadness, surprise]\n",
        "\n",
        "def to_ekman(idx):\n",
        "  if idx == 27:\n",
        "    return 6\n",
        "  for i, emotion in enumerate(ekman):\n",
        "    for e in emotion:\n",
        "      if idx == e:\n",
        "        return i\n",
        "  print(\"error\")"
      ],
      "metadata": {
        "id": "9ezARguiBN6D"
      },
      "execution_count": null,
      "outputs": []
    },
    {
      "cell_type": "code",
      "source": [
        "def make_one_hot(labels, num):\n",
        "  one_hot = []\n",
        "  for i in range(num):\n",
        "    one_hot.append(0)\n",
        "  for idx in labels:\n",
        "    one_hot[to_ekman(idx)] = 1\n",
        "  return one_hot"
      ],
      "metadata": {
        "id": "F2Smurg3Hn8r"
      },
      "execution_count": null,
      "outputs": []
    },
    {
      "cell_type": "code",
      "source": [
        "class dataset:\n",
        "  def __init__(self, src, trg):\n",
        "    self.src = src\n",
        "    self.trg = trg"
      ],
      "metadata": {
        "id": "qeEDWHW07hfa"
      },
      "execution_count": null,
      "outputs": []
    },
    {
      "cell_type": "code",
      "source": [
        "print(tokenize_en(raw_train_dataset['text'][0]))"
      ],
      "metadata": {
        "colab": {
          "base_uri": "https://localhost:8080/"
        },
        "id": "bTd3DtTSSbya",
        "outputId": "81d68da0-966b-4f98-b5fc-8800fa47788b"
      },
      "execution_count": null,
      "outputs": [
        {
          "output_type": "stream",
          "name": "stdout",
          "text": [
            "['My', 'favourite', 'food', 'is', 'anything', 'I', 'did', \"n't\", 'have', 'to', 'cook', 'myself', '.']\n"
          ]
        }
      ]
    },
    {
      "cell_type": "code",
      "source": [
        "from torchtext.vocab import GloVe\n",
        "global_vectors = GloVe(name='6B', dim=300)"
      ],
      "metadata": {
        "id": "PzG6a4Wl_IgN"
      },
      "execution_count": null,
      "outputs": []
    },
    {
      "cell_type": "code",
      "source": [
        "def preprocessing(src_dst, trg_dst, raw_dataset): # should be only used by latter codes\n",
        "  global VOCAB_stoi, VOCAB_itos, frequency, index\n",
        "  for d in raw_dataset:\n",
        "    # remove '[NAME]' in the sentence\n",
        "    tokenized = tokenize_en(d['text'].replace('[NAME]', '').strip().lower())\n",
        "    if (len(tokenized) > 32):\n",
        "      tokenized = tokenized[:32]\n",
        "    embedded = []\n",
        "    diff = 32 - len(tokenized)\n",
        "    for i in range(diff):\n",
        "      tokenized.append('PAD') # consider making attention mask(addition!!!)\n",
        "    for i in range(len(tokenized)):\n",
        "      embedded.append(global_vectors.get_vecs_by_tokens([tokenized[i]], lower_case_backup=True).squeeze())\n",
        "    src_dst.append(torch.stack(embedded))\n",
        "    trg_dst.append(make_one_hot(d['labels'], 7))"
      ],
      "metadata": {
        "id": "sAQD2antZPeb"
      },
      "execution_count": null,
      "outputs": []
    },
    {
      "cell_type": "code",
      "source": [
        "# train dataset\n",
        "tokenized_train_src = []\n",
        "train_trg = []\n",
        "preprocessing(tokenized_train_src, train_trg, raw_train_dataset)\n",
        "\n",
        "# validation dataset\n",
        "tokenized_validation_src = []\n",
        "validation_trg = []\n",
        "preprocessing(tokenized_validation_src, validation_trg, raw_validation_dataset)\n",
        "\n",
        "# test dataset\n",
        "tokenized_test_src = []\n",
        "test_trg = []\n",
        "preprocessing(tokenized_test_src, test_trg, raw_test_dataset)"
      ],
      "metadata": {
        "id": "so60FNAAHqeu"
      },
      "execution_count": null,
      "outputs": []
    },
    {
      "cell_type": "code",
      "source": [
        "tokenized_train_src[0]"
      ],
      "metadata": {
        "colab": {
          "base_uri": "https://localhost:8080/"
        },
        "id": "of1v4nd_MS9v",
        "outputId": "42c21474-4c37-46b0-fe6b-40be2f186ced"
      },
      "execution_count": null,
      "outputs": [
        {
          "output_type": "execute_result",
          "data": {
            "text/plain": [
              "tensor([[-0.2275, -0.1366, -0.3900,  ..., -0.1844, -0.3823,  0.5535],\n",
              "        [ 0.3401,  0.5711,  0.4501,  ...,  0.3548, -0.8317,  0.1224],\n",
              "        [ 0.3854,  0.3425,  0.2960,  ..., -0.4994, -0.2751, -0.6136],\n",
              "        ...,\n",
              "        [-0.0305, -0.2272,  0.3878,  ..., -0.4162, -0.6488,  0.0726],\n",
              "        [-0.0305, -0.2272,  0.3878,  ..., -0.4162, -0.6488,  0.0726],\n",
              "        [-0.0305, -0.2272,  0.3878,  ..., -0.4162, -0.6488,  0.0726]])"
            ]
          },
          "metadata": {},
          "execution_count": 78
        }
      ]
    },
    {
      "cell_type": "code",
      "source": [
        "print(len(raw_train_dataset), len(raw_validation_dataset), len(raw_test_dataset))"
      ],
      "metadata": {
        "colab": {
          "base_uri": "https://localhost:8080/"
        },
        "id": "0qp6LaQIe47o",
        "outputId": "fdd2e8ce-91a3-416e-f258-e372d2630b55"
      },
      "execution_count": null,
      "outputs": [
        {
          "output_type": "stream",
          "name": "stdout",
          "text": [
            "43410 5426 5427\n"
          ]
        }
      ]
    },
    {
      "cell_type": "code",
      "source": [
        "print(len(tokenized_train_src), len(train_trg), len(tokenized_validation_src), len(validation_trg), len(tokenized_test_src), len(test_trg))"
      ],
      "metadata": {
        "colab": {
          "base_uri": "https://localhost:8080/"
        },
        "id": "BLOl_EYMcqQb",
        "outputId": "66a4d102-2846-4a83-a9c3-e64dc2adcd60"
      },
      "execution_count": null,
      "outputs": [
        {
          "output_type": "stream",
          "name": "stdout",
          "text": [
            "43410 43410 5426 5426 5427 5427\n"
          ]
        }
      ]
    },
    {
      "cell_type": "markdown",
      "source": [
        "## encoding"
      ],
      "metadata": {
        "id": "aw2J8fm1FhmZ"
      }
    },
    {
      "cell_type": "markdown",
      "source": [
        "## batched dataset"
      ],
      "metadata": {
        "id": "AEaXKC-efLhj"
      }
    },
    {
      "cell_type": "code",
      "execution_count": null,
      "metadata": {
        "collapsed": true,
        "id": "Uuh7d1RGCkK7"
      },
      "outputs": [],
      "source": [
        "# for using GPU\n",
        "device = torch.device('cuda' if torch.cuda.is_available() else 'cpu')"
      ]
    },
    {
      "cell_type": "code",
      "source": [
        "BATCH_SIZE = 128\n",
        "\n",
        "def batch(src, trg):\n",
        "  batched = []\n",
        "  one_batch_s = []\n",
        "  one_batch_t = []\n",
        "  i = 0\n",
        "  for s,t in zip(src, trg):\n",
        "    i += 1\n",
        "    one_batch_s.append(s)\n",
        "    one_batch_t.append(t)\n",
        "    if (i == BATCH_SIZE): # append batch and initialize\n",
        "      batched.append(dataset(torch.stack(one_batch_s).to(device), torch.tensor(one_batch_t).to(device)))\n",
        "      one_batch_s = []\n",
        "      one_batch_t = []\n",
        "      i = 0\n",
        "  if i != BATCH_SIZE:\n",
        "    batched.append(dataset(torch.stack(one_batch_s).to(device), torch.tensor(one_batch_t).to(device)))\n",
        "  return batched"
      ],
      "metadata": {
        "id": "Ek5ptSD0f8jZ"
      },
      "execution_count": null,
      "outputs": []
    },
    {
      "cell_type": "code",
      "source": [
        "# batched train dataset\n",
        "train_dataset = batch(tokenized_train_src, train_trg)\n",
        "\n",
        "# batched validation dataset\n",
        "validation_dataset = batch(tokenized_validation_src, validation_trg)\n",
        "\n",
        "# batched test dataset\n",
        "test_dataset = batch(tokenized_test_src, test_trg)"
      ],
      "metadata": {
        "id": "rl1O3JvzfOm2"
      },
      "execution_count": null,
      "outputs": []
    },
    {
      "cell_type": "code",
      "source": [
        "print(train_dataset[0].src)\n",
        "print(train_dataset[0].src.size())"
      ],
      "metadata": {
        "colab": {
          "base_uri": "https://localhost:8080/"
        },
        "id": "bE1qD4PD6r8q",
        "outputId": "ec90e890-fbd3-4e4f-c998-ce770a17704a"
      },
      "execution_count": null,
      "outputs": [
        {
          "output_type": "stream",
          "name": "stdout",
          "text": [
            "tensor([[[-0.2275, -0.1366, -0.3900,  ..., -0.1844, -0.3823,  0.5535],\n",
            "         [ 0.3401,  0.5711,  0.4501,  ...,  0.3548, -0.8317,  0.1224],\n",
            "         [ 0.3854,  0.3425,  0.2960,  ..., -0.4994, -0.2751, -0.6136],\n",
            "         ...,\n",
            "         [-0.0305, -0.2272,  0.3878,  ..., -0.4162, -0.6488,  0.0726],\n",
            "         [-0.0305, -0.2272,  0.3878,  ..., -0.4162, -0.6488,  0.0726],\n",
            "         [-0.0305, -0.2272,  0.3878,  ..., -0.4162, -0.6488,  0.0726]],\n",
            "\n",
            "        [[-0.3918,  0.0430,  0.2727,  ..., -0.4052,  0.0125,  0.0935],\n",
            "         [-0.2336,  0.3593, -0.0687,  ..., -0.7133, -0.0104,  0.3322],\n",
            "         [-0.5206,  0.4956,  0.0329,  ..., -0.3506, -0.2220,  0.1428],\n",
            "         ...,\n",
            "         [-0.0305, -0.2272,  0.3878,  ..., -0.4162, -0.6488,  0.0726],\n",
            "         [-0.0305, -0.2272,  0.3878,  ..., -0.4162, -0.6488,  0.0726],\n",
            "         [-0.0305, -0.2272,  0.3878,  ..., -0.4162, -0.6488,  0.0726]],\n",
            "\n",
            "        [[-0.0721, -0.1442,  0.0184,  ..., -0.1755,  0.1228,  0.4153],\n",
            "         [ 0.0466,  0.2132, -0.0074,  ...,  0.0091, -0.2099,  0.0539],\n",
            "         [ 0.2861, -0.4859, -0.4946,  ...,  0.4283,  0.2540,  0.3089],\n",
            "         ...,\n",
            "         [-0.0305, -0.2272,  0.3878,  ..., -0.4162, -0.6488,  0.0726],\n",
            "         [-0.0305, -0.2272,  0.3878,  ..., -0.4162, -0.6488,  0.0726],\n",
            "         [-0.0305, -0.2272,  0.3878,  ..., -0.4162, -0.6488,  0.0726]],\n",
            "\n",
            "        ...,\n",
            "\n",
            "        [[-0.0658, -0.1931, -0.1080,  ...,  0.2948,  0.3219,  0.4923],\n",
            "         [-0.1256,  0.0136,  0.1031,  ..., -0.3422, -0.0224,  0.1368],\n",
            "         [-0.1329,  0.1699, -0.1436,  ..., -0.2378,  0.1477,  0.6290],\n",
            "         ...,\n",
            "         [-0.0305, -0.2272,  0.3878,  ..., -0.4162, -0.6488,  0.0726],\n",
            "         [-0.0305, -0.2272,  0.3878,  ..., -0.4162, -0.6488,  0.0726],\n",
            "         [-0.0305, -0.2272,  0.3878,  ..., -0.4162, -0.6488,  0.0726]],\n",
            "\n",
            "        [[-0.0658, -0.1931, -0.1080,  ...,  0.2948,  0.3219,  0.4923],\n",
            "         [-0.2554, -0.2572,  0.1317,  ..., -0.2329, -0.1223,  0.3550],\n",
            "         [-0.1826,  0.4985, -0.1639,  ..., -0.2722, -0.1911, -0.0941],\n",
            "         ...,\n",
            "         [-0.1256,  0.0136,  0.1031,  ..., -0.3422, -0.0224,  0.1368],\n",
            "         [-0.0305, -0.2272,  0.3878,  ..., -0.4162, -0.6488,  0.0726],\n",
            "         [-0.0305, -0.2272,  0.3878,  ..., -0.4162, -0.6488,  0.0726]],\n",
            "\n",
            "        [[-0.1329,  0.1699, -0.1436,  ..., -0.2378,  0.1477,  0.6290],\n",
            "         [-0.2498,  0.4815, -0.3806,  ..., -0.1276, -0.3911,  0.5431],\n",
            "         [-0.2843,  0.0480, -0.1506,  ..., -0.0901,  0.0169,  0.2928],\n",
            "         ...,\n",
            "         [-0.0305, -0.2272,  0.3878,  ..., -0.4162, -0.6488,  0.0726],\n",
            "         [-0.0305, -0.2272,  0.3878,  ..., -0.4162, -0.6488,  0.0726],\n",
            "         [-0.0305, -0.2272,  0.3878,  ..., -0.4162, -0.6488,  0.0726]]],\n",
            "       device='cuda:0')\n",
            "torch.Size([128, 32, 300])\n"
          ]
        }
      ]
    },
    {
      "cell_type": "markdown",
      "metadata": {
        "id": "YcXJkg55CkK8"
      },
      "source": [
        "## **Building the Model**"
      ]
    },
    {
      "cell_type": "markdown",
      "metadata": {
        "id": "RAzZNb4ACkK8"
      },
      "source": [
        "### Encoder\n",
        " - For positional encoding, we use postional embedding as in BERT unlike the positional encoding in the original Transformer paper."
      ]
    },
    {
      "cell_type": "code",
      "execution_count": null,
      "metadata": {
        "collapsed": true,
        "id": "kRZFPB-WCkK8"
      },
      "outputs": [],
      "source": [
        "class Encoder(nn.Module):\n",
        "    def __init__(self,\n",
        "                 hid_dim,\n",
        "                 n_layers,\n",
        "                 n_heads,\n",
        "                 pf_dim,\n",
        "                 dropout,\n",
        "                 device,\n",
        "                 max_length = 100):\n",
        "        super().__init__()\n",
        "\n",
        "        self.device = device\n",
        "\n",
        "        ''' Input Embedding '''\n",
        "        # self.tok_embedding = nn.Embedding(input_dim, hid_dim)\n",
        "        self.pos_embedding = nn.Embedding(max_length, hid_dim)\n",
        "\n",
        "        ''' Multiple Encoder Layers '''\n",
        "        # we use multiple encoder layers (e.g., 6 in the original Transformer paper)\n",
        "        self.layers = nn.ModuleList([EncoderLayer(hid_dim,\n",
        "                                                  n_heads,\n",
        "                                                  pf_dim,\n",
        "                                                  dropout,\n",
        "                                                  device)\n",
        "                                     for _ in range(n_layers)])\n",
        "\n",
        "        self.dropout = nn.Dropout(dropout)\n",
        "\n",
        "        self.scale = torch.sqrt(torch.FloatTensor([hid_dim])).to(device)\n",
        "\n",
        "    def forward(self, src):\n",
        "\n",
        "        ## TODO: write down the forward step\n",
        "        seq_length = src.size(1)\n",
        "        # positional embedding dimension: S x H\n",
        "        embedded_pos = self.pos_embedding(torch.arange(seq_length, device=self.device))\n",
        "        # token embedding, dimension: B x S x H\n",
        "        embedded_tok = src\n",
        "        # self.tok_embedding(src)\n",
        "        # two embeddings added, dimension: B x S x H; positional embedding broadcasted\n",
        "        embedded = torch.add(embedded_tok, embedded_pos)\n",
        "\n",
        "        output = embedded\n",
        "        for layer in self.layers:\n",
        "          output = layer(output, None)\n",
        "          output = self.dropout(output)\n",
        "\n",
        "        hidden = output[:,:,-1]\n",
        "\n",
        "        return output, hidden"
      ]
    },
    {
      "cell_type": "markdown",
      "metadata": {
        "id": "DUuKZxccCkK8"
      },
      "source": [
        "### Encoder layer"
      ]
    },
    {
      "cell_type": "code",
      "execution_count": null,
      "metadata": {
        "collapsed": true,
        "id": "P3ckhegoCkK9"
      },
      "outputs": [],
      "source": [
        "class EncoderLayer(nn.Module):\n",
        "    def __init__(self,\n",
        "                 hid_dim,\n",
        "                 n_heads,\n",
        "                 pf_dim,\n",
        "                 dropout,\n",
        "                 device):\n",
        "        super().__init__()\n",
        "\n",
        "        ''' Multi Head self-Attention '''\n",
        "        self.self_attention = MultiHeadAttentionLayer(hid_dim, n_heads, dropout, device)\n",
        "        self.self_attn_layer_norm = nn.LayerNorm(hid_dim)\n",
        "\n",
        "        ''' Positional FeedForward Layer'''\n",
        "        self.positionwise_feedforward = PositionwiseFeedforwardLayer(hid_dim,\n",
        "                                                                     pf_dim,\n",
        "                                                                     dropout)\n",
        "        self.ff_layer_norm = nn.LayerNorm(hid_dim)\n",
        "\n",
        "        self.dropout = nn.Dropout(dropout)\n",
        "\n",
        "    def forward(self, src, src_mask):\n",
        "\n",
        "        # TODO: write your code\n",
        "        # multihead attention\n",
        "        # dimension: B x S x H\n",
        "        x_a, _ = self.self_attention(src, src, src, src_mask)\n",
        "        x_a = self.self_attn_layer_norm(self.dropout(x_a) + src)\n",
        "        # positionwise feed forward\n",
        "        x_f = self.positionwise_feedforward(x_a)\n",
        "        src = self.ff_layer_norm(self.dropout(x_f) + x_a)\n",
        "\n",
        "        return src"
      ]
    },
    {
      "cell_type": "markdown",
      "metadata": {
        "id": "l81Dz_MuCkK9"
      },
      "source": [
        "### Multi Head Attention Layer"
      ]
    },
    {
      "cell_type": "code",
      "execution_count": null,
      "metadata": {
        "collapsed": true,
        "id": "fAPmY5ivCkK9"
      },
      "outputs": [],
      "source": [
        "class MultiHeadAttentionLayer(nn.Module):\n",
        "    def __init__(self, hid_dim, n_heads, dropout, device):\n",
        "        super().__init__()\n",
        "\n",
        "        # TODO: write your code\n",
        "        # assumption: hid_dim is a multiple of n_heads\n",
        "        self.n_heads = n_heads\n",
        "\n",
        "        self.weight_query = nn.Linear(hid_dim, hid_dim)\n",
        "        self.weight_key = nn.Linear(hid_dim, hid_dim)\n",
        "        self.weight_value = nn.Linear(hid_dim, hid_dim)\n",
        "\n",
        "        self.scale = torch.sqrt(torch.FloatTensor([hid_dim])).to(device)\n",
        "        self.dropout = nn.Dropout(dropout)\n",
        "\n",
        "    def forward(self, query, key, value, mask = None):\n",
        "\n",
        "        # TODO: write your code\n",
        "        # dimension: B x S(1/2/3) x n_heads x H/n_heads\n",
        "        Q = self.weight_query(query).view(query.size(0), query.size(1), self.n_heads, -1)\n",
        "        K = self.weight_key(key).view(key.size(0), key.size(1), self.n_heads, -1)\n",
        "        V = self.weight_value(value).view(value.size(0), value.size(1), self.n_heads, -1)\n",
        "\n",
        "        # dimension: B x n_heads x S x H/n_heads\n",
        "        Q, K, V = torch.transpose(Q, 1, 2), torch.transpose(K, 1, 2), torch.transpose(V, 1, 2)\n",
        "        # dimension: B x n_heads x S1(query sentence length) x S2(key sentence length)\n",
        "        dot = torch.matmul(Q, torch.transpose(K, 2, 3))\n",
        "        scaled_dot = torch.div(dot, self.scale)\n",
        "        if mask is not None:\n",
        "          scaled_dot = scaled_dot.masked_fill(mask, -1e19) # -math.inf\n",
        "\n",
        "        # attention dimension: B x n_heads x S1 x S2\n",
        "        attention = nn.functional.softmax(scaled_dot, dim=3)\n",
        "\n",
        "        attention = self.dropout(attention)\n",
        "        # dimension: B x n_heads x S1 x H/n_heads\n",
        "        weighted_sum = torch.matmul(attention, V) # V dimension: B x n_heads x S x H/n_heads\n",
        "        # concat multiheads\n",
        "        x = torch.cat([weighted_sum[:, i, :, :] for i in range(self.n_heads)], dim=-1)\n",
        "\n",
        "        return x, attention"
      ]
    },
    {
      "cell_type": "markdown",
      "metadata": {
        "id": "9TnvIf_fCkK-"
      },
      "source": [
        "### Position-wise Feedforward Layer"
      ]
    },
    {
      "cell_type": "code",
      "execution_count": null,
      "metadata": {
        "collapsed": true,
        "id": "AjRczF22CkK-"
      },
      "outputs": [],
      "source": [
        "class PositionwiseFeedforwardLayer(nn.Module):\n",
        "    def __init__(self, hid_dim, pf_dim, dropout):\n",
        "        super().__init__()\n",
        "\n",
        "        # TODO: write your code\n",
        "        self.linear1 = nn.Linear(hid_dim, pf_dim)\n",
        "        self.relu = nn.ReLU()\n",
        "        self.linear2 = nn.Linear(pf_dim, hid_dim)\n",
        "        self.dropout = nn.Dropout(dropout)\n",
        "\n",
        "    def forward(self, x):\n",
        "\n",
        "        # TODO: write your code\n",
        "        x = self.relu(self.linear1(x))\n",
        "        x = self.dropout(x)\n",
        "        x = self.linear2(x)\n",
        "\n",
        "        return x"
      ]
    },
    {
      "cell_type": "markdown",
      "metadata": {
        "id": "WuoGI1flCkLB"
      },
      "source": [
        "### Sequence-to-sequence model"
      ]
    },
    {
      "cell_type": "code",
      "execution_count": null,
      "metadata": {
        "collapsed": true,
        "id": "PWscYc-tCkLB"
      },
      "outputs": [],
      "source": [
        "class Classification(nn.Module):\n",
        "    def __init__(self,\n",
        "                 encoder,\n",
        "                 hid_dim,\n",
        "                 out_dim,\n",
        "                 device):\n",
        "        super().__init__()\n",
        "\n",
        "        self.encoder = encoder\n",
        "        self.linear = nn.Linear(hid_dim, out_dim) # can add more!!!\n",
        "        self.device = device\n",
        "\n",
        "\n",
        "    def forward(self, src, trg=None):\n",
        "\n",
        "        ## TODO: write down the forward step\n",
        "        # encoder output dimension: B x S_en x H\n",
        "        en_output, _ = self.encoder(src)\n",
        "        en_output = torch.sum(en_output, 1) # B x H\n",
        "        # B x O\n",
        "        output = self.linear(en_output)\n",
        "\n",
        "        return output"
      ]
    },
    {
      "cell_type": "markdown",
      "metadata": {
        "id": "bSuLohtSCkLC"
      },
      "source": [
        "### Training the Seq2Seq Model"
      ]
    },
    {
      "cell_type": "code",
      "execution_count": null,
      "metadata": {
        "collapsed": true,
        "id": "2KJMsxRzCkLC"
      },
      "outputs": [],
      "source": [
        "OUTPUT_DIM = 7\n",
        "HID_DIM = 300\n",
        "ENC_LAYERS = 3 #2\n",
        "ENC_HEADS = 4\n",
        "ENC_PF_DIM = 300\n",
        "ENC_DROPOUT = 0.1\n",
        "\n",
        "\n",
        "enc = Encoder(HID_DIM,\n",
        "              ENC_LAYERS,\n",
        "              ENC_HEADS,\n",
        "              ENC_PF_DIM,\n",
        "              ENC_DROPOUT,\n",
        "              device)"
      ]
    },
    {
      "cell_type": "code",
      "execution_count": null,
      "metadata": {
        "collapsed": true,
        "id": "njnSJAO2CkLC"
      },
      "outputs": [],
      "source": [
        "model = Classification(enc, HID_DIM, OUTPUT_DIM, device).to(device)"
      ]
    },
    {
      "cell_type": "code",
      "execution_count": null,
      "metadata": {
        "colab": {
          "base_uri": "https://localhost:8080/"
        },
        "collapsed": true,
        "id": "iZGbML6iCkLD",
        "outputId": "bb2df604-ac78-4c36-f5a5-07448cfe5013"
      },
      "outputs": [
        {
          "output_type": "stream",
          "name": "stdout",
          "text": [
            "The model has 1,390,207 trainable parameters\n"
          ]
        }
      ],
      "source": [
        "def count_parameters(model):\n",
        "    return sum(p.numel() for p in model.parameters() if p.requires_grad)\n",
        "\n",
        "print(f'The model has {count_parameters(model):,} trainable parameters')"
      ]
    },
    {
      "cell_type": "markdown",
      "metadata": {
        "id": "EzEIGSaYCkLD"
      },
      "source": [
        "We initialize model weights"
      ]
    },
    {
      "cell_type": "code",
      "execution_count": null,
      "metadata": {
        "collapsed": true,
        "id": "WKCSNplNCkLE"
      },
      "outputs": [],
      "source": [
        "def initialize_weights(m):\n",
        "    if hasattr(m, 'weight') and m.weight.dim() > 1:\n",
        "        nn.init.xavier_uniform_(m.weight.data)\n",
        "\n",
        "model.apply(initialize_weights);"
      ]
    },
    {
      "cell_type": "markdown",
      "metadata": {
        "id": "EthFRixWCkLE"
      },
      "source": [
        "We use Adam as our optimizer and CrossEntropyLoss. Also we set to ignore <pad> token in calculating loss"
      ]
    },
    {
      "cell_type": "code",
      "execution_count": null,
      "metadata": {
        "collapsed": true,
        "id": "7scEgvEmCkLE"
      },
      "outputs": [],
      "source": [
        "LEARNING_RATE = 0.0005\n",
        "\n",
        "optimizer = torch.optim.Adam(model.parameters(), lr = LEARNING_RATE)"
      ]
    },
    {
      "cell_type": "code",
      "execution_count": null,
      "metadata": {
        "collapsed": true,
        "id": "48ddmDBQCkLE"
      },
      "outputs": [],
      "source": [
        "criterion = nn.BCEWithLogitsLoss()"
      ]
    },
    {
      "cell_type": "markdown",
      "metadata": {
        "id": "H929zNnkCkLF"
      },
      "source": [
        "### Training"
      ]
    },
    {
      "cell_type": "code",
      "execution_count": null,
      "metadata": {
        "collapsed": true,
        "id": "2JrTmY47CkLF"
      },
      "outputs": [],
      "source": [
        "def train(model, iterator, optimizer, criterion):\n",
        "\n",
        "    model.train()\n",
        "\n",
        "    epoch_loss = 0\n",
        "\n",
        "    for i, batch in enumerate(iterator):\n",
        "\n",
        "        src = batch.src\n",
        "        trg = batch.trg\n",
        "\n",
        "        optimizer.zero_grad()\n",
        "\n",
        "        # TODO: write down your training code here\n",
        "        output = model(src)\n",
        "        # loss\n",
        "        loss = criterion(output, trg.float())\n",
        "\n",
        "        # perform a backwared pass, and update the weights\n",
        "        loss.backward()\n",
        "        optimizer.step()\n",
        "\n",
        "        epoch_loss += loss.item()\n",
        "\n",
        "    return epoch_loss / len(iterator)"
      ]
    },
    {
      "cell_type": "markdown",
      "metadata": {
        "id": "sc9mB2mJCkLF"
      },
      "source": [
        "### Evaluation"
      ]
    },
    {
      "cell_type": "code",
      "execution_count": null,
      "metadata": {
        "collapsed": true,
        "id": "zo7bhs29CkLG"
      },
      "outputs": [],
      "source": [
        "def evaluate(model, iterator, criterion):\n",
        "\n",
        "    model.eval()\n",
        "\n",
        "    epoch_loss = 0\n",
        "\n",
        "    with torch.no_grad():\n",
        "\n",
        "        for i, batch in enumerate(iterator):\n",
        "\n",
        "            src = batch.src\n",
        "            trg = batch.trg\n",
        "\n",
        "            # TODO: write down your training code here\n",
        "            output = model(src)\n",
        "            # loss\n",
        "            loss = criterion(output, trg.float())\n",
        "\n",
        "            epoch_loss += loss.item()\n",
        "\n",
        "    return epoch_loss / len(iterator)"
      ]
    },
    {
      "cell_type": "code",
      "execution_count": null,
      "metadata": {
        "collapsed": true,
        "id": "kBTRrMJNCkLG"
      },
      "outputs": [],
      "source": [
        "def epoch_time(start_time, end_time):\n",
        "    elapsed_time = end_time - start_time\n",
        "    elapsed_mins = int(elapsed_time / 60)\n",
        "    elapsed_secs = int(elapsed_time - (elapsed_mins * 60))\n",
        "    return elapsed_mins, elapsed_secs"
      ]
    },
    {
      "cell_type": "markdown",
      "metadata": {
        "id": "HVUB6WnlCkLG"
      },
      "source": [
        "### Train the model through multiple epochs"
      ]
    },
    {
      "cell_type": "code",
      "execution_count": null,
      "metadata": {
        "colab": {
          "base_uri": "https://localhost:8080/"
        },
        "id": "jmDtSolACkLG",
        "outputId": "9e25d701-c57c-49b7-c33c-438e93da7e95"
      },
      "outputs": [
        {
          "output_type": "stream",
          "name": "stdout",
          "text": [
            "Epoch: 01 | Time: 0m 7s\n",
            "\tTrain Loss: 1.329\n",
            "\t Val. Loss: 0.547\n",
            "Epoch: 02 | Time: 0m 7s\n",
            "\tTrain Loss: 0.648\n",
            "\t Val. Loss: 0.575\n",
            "Epoch: 03 | Time: 0m 7s\n",
            "\tTrain Loss: 0.558\n",
            "\t Val. Loss: 0.446\n",
            "Epoch: 04 | Time: 0m 7s\n",
            "\tTrain Loss: 0.502\n",
            "\t Val. Loss: 0.377\n",
            "Epoch: 05 | Time: 0m 7s\n",
            "\tTrain Loss: 0.453\n",
            "\t Val. Loss: 0.351\n",
            "Epoch: 06 | Time: 0m 7s\n",
            "\tTrain Loss: 0.407\n",
            "\t Val. Loss: 0.316\n",
            "Epoch: 07 | Time: 0m 7s\n",
            "\tTrain Loss: 0.371\n",
            "\t Val. Loss: 0.296\n",
            "Epoch: 08 | Time: 0m 7s\n",
            "\tTrain Loss: 0.338\n",
            "\t Val. Loss: 0.314\n",
            "Epoch: 09 | Time: 0m 7s\n",
            "\tTrain Loss: 0.315\n",
            "\t Val. Loss: 0.313\n",
            "Epoch: 10 | Time: 0m 7s\n",
            "\tTrain Loss: 0.300\n",
            "\t Val. Loss: 0.324\n",
            "Epoch: 11 | Time: 0m 7s\n",
            "\tTrain Loss: 0.286\n",
            "\t Val. Loss: 0.321\n",
            "Epoch: 12 | Time: 0m 7s\n",
            "\tTrain Loss: 0.277\n",
            "\t Val. Loss: 0.286\n",
            "Epoch: 13 | Time: 0m 7s\n",
            "\tTrain Loss: 0.267\n",
            "\t Val. Loss: 0.282\n",
            "Epoch: 14 | Time: 0m 7s\n",
            "\tTrain Loss: 0.260\n",
            "\t Val. Loss: 0.283\n",
            "Epoch: 15 | Time: 0m 7s\n",
            "\tTrain Loss: 0.251\n",
            "\t Val. Loss: 0.291\n"
          ]
        }
      ],
      "source": [
        "N_EPOCHS = 15\n",
        "\n",
        "best_valid_loss = float('inf')\n",
        "\n",
        "for epoch in range(N_EPOCHS):\n",
        "\n",
        "    start_time = time.time()\n",
        "\n",
        "    train_loss = train(model, train_dataset, optimizer, criterion)\n",
        "    valid_loss = evaluate(model, validation_dataset, criterion)\n",
        "\n",
        "    end_time = time.time()\n",
        "\n",
        "    epoch_mins, epoch_secs = epoch_time(start_time, end_time)\n",
        "\n",
        "    if valid_loss < best_valid_loss:\n",
        "        best_valid_loss = valid_loss\n",
        "        torch.save(model.state_dict(), 'my-model.pt')\n",
        "\n",
        "    print(f'Epoch: {epoch+1:02} | Time: {epoch_mins}m {epoch_secs}s')\n",
        "    print(f'\\tTrain Loss: {train_loss:.3f}')\n",
        "    print(f'\\t Val. Loss: {valid_loss:.3f}')"
      ]
    },
    {
      "cell_type": "code",
      "execution_count": null,
      "metadata": {
        "colab": {
          "base_uri": "https://localhost:8080/"
        },
        "id": "gaFJkze5CkLH",
        "outputId": "7c7e9867-23f1-417b-b857-c65050b00a54"
      },
      "outputs": [
        {
          "output_type": "stream",
          "name": "stdout",
          "text": [
            "| Test Loss: 0.285\n"
          ]
        }
      ],
      "source": [
        "model.load_state_dict(torch.load('my-model.pt'))\n",
        "\n",
        "test_loss = evaluate(model, test_dataset, criterion)\n",
        "\n",
        "print(f'| Test Loss: {test_loss:.3f}')"
      ]
    },
    {
      "cell_type": "code",
      "source": [
        "w = [0,0,0,0,0,0,0,0,0,0,0,0,0,0,0,0,0,0,0,0,0,0,0,0,0,0,0,0]\n",
        "TP = [0,0,0,0,0,0,0,0,0,0,0,0,0,0,0,0,0,0,0,0,0,0,0,0,0,0,0,0]\n",
        "TN = [0,0,0,0,0,0,0,0,0,0,0,0,0,0,0,0,0,0,0,0,0,0,0,0,0,0,0,0]\n",
        "FP = [0,0,0,0,0,0,0,0,0,0,0,0,0,0,0,0,0,0,0,0,0,0,0,0,0,0,0,0]\n",
        "FN = [0,0,0,0,0,0,0,0,0,0,0,0,0,0,0,0,0,0,0,0,0,0,0,0,0,0,0,0]\n",
        "def assign_f1 (pred_, label_):\n",
        "  for pred, label in zip(pred_, label_): # for each batch\n",
        "    for i in range(len(pred)):\n",
        "      if label[i] == 1: # count true instances\n",
        "        w[i] += 1\n",
        "      if pred[i] == 1 and pred[i] == label[i]: # TP\n",
        "        TP[i] += 1\n",
        "      elif pred[i] == 1 and pred[i] != label[i]: # FP\n",
        "        FP[i] += 1\n",
        "      elif pred[i] == 0 and pred[i] == label[i]: # TN\n",
        "        TN[i] += 1\n",
        "      else: # FN\n",
        "        FN[i] += 1\n",
        "\n",
        "def get_f1_score (is_weighted):\n",
        "  precision = [0,0,0,0,0,0,0,0,0,0,0,0,0,0,0,0,0,0,0,0,0,0,0,0,0,0,0,0]\n",
        "  recall = [0,0,0,0,0,0,0,0,0,0,0,0,0,0,0,0,0,0,0,0,0,0,0,0,0,0,0,0]\n",
        "  F1 = [0,0,0,0,0,0,0,0,0,0,0,0,0,0,0,0,0,0,0,0,0,0,0,0,0,0,0,0]\n",
        "  for i in range(len(TP)):\n",
        "    if (TP[i] != 0):\n",
        "      precision[i] = TP[i] / (TP[i] + FP[i])\n",
        "      recall[i] = TP[i] / (TP[i] + FN[i])\n",
        "      F1[i] = 2*precision[i]*recall[i] / (precision[i] + recall[i])\n",
        "  tot_precision = 0\n",
        "  tot_recall = 0\n",
        "  tot_f1_score = 0\n",
        "  if (is_weighted):\n",
        "    s = sum(w)\n",
        "    for i in range(len(w)):\n",
        "      weight = w[i]/s\n",
        "      tot_precision += weight * precision[i]\n",
        "      tot_recall += weight * recall[i]\n",
        "      tot_f1_score += weight * F1[i]\n",
        "  else:\n",
        "    l = 7\n",
        "    tot_precision = sum(precision) / l\n",
        "    tot_recall = sum(recall) / l\n",
        "    tot_f1_score = sum(F1) / l\n",
        "  return tot_precision, tot_recall, tot_f1_score"
      ],
      "metadata": {
        "id": "B7eFo9Wi7vWx"
      },
      "execution_count": null,
      "outputs": []
    },
    {
      "cell_type": "code",
      "source": [
        "def evaluate_f1(iterator, model, threshold=0.5, is_weighted=True):\n",
        "    model.eval()\n",
        "\n",
        "    with torch.no_grad():\n",
        "        check = 0\n",
        "        for batch in iterator:\n",
        "            src = batch.src\n",
        "            trg = batch.trg\n",
        "\n",
        "            output = model(src)\n",
        "            output = torch.sigmoid(output)\n",
        "            predicted = (output > threshold).int()\n",
        "\n",
        "            labels = trg.int()\n",
        "\n",
        "            assign_f1(predicted.tolist(), labels.tolist())\n",
        "\n",
        "    precision, recall, f1 = get_f1_score(is_weighted) # weighted\n",
        "\n",
        "    return precision, recall, f1\n",
        "\n",
        "boolean = True\n",
        "precision, recall, f1 = evaluate_f1(test_dataset, model, 0.5, boolean)\n",
        "print(f\"Precision: {precision:.4f}\")\n",
        "print(f\"Recall: {recall:.4f}\")\n",
        "print(f\"F1 Score: {f1:.4f}\")"
      ],
      "metadata": {
        "colab": {
          "base_uri": "https://localhost:8080/"
        },
        "id": "KZNejnH-zEFK",
        "outputId": "4117d633-64c4-4111-d6cd-3d8748b7726a"
      },
      "execution_count": null,
      "outputs": [
        {
          "output_type": "stream",
          "name": "stdout",
          "text": [
            "Precision: 0.6984\n",
            "Recall: 0.5196\n",
            "F1 Score: 0.5880\n"
          ]
        }
      ]
    },
    {
      "cell_type": "code",
      "source": [
        "precision, recall, f1 = evaluate_f1(test_dataset, model, 0.5, False)\n",
        "print(f\"Precision: {precision:.4f}\")\n",
        "print(f\"Recall: {recall:.4f}\")\n",
        "print(f\"F1 Score: {f1:.4f}\")"
      ],
      "metadata": {
        "colab": {
          "base_uri": "https://localhost:8080/"
        },
        "id": "F_UQIxHvEqK2",
        "outputId": "35d32ad1-8eba-4cd8-f954-62ccbd8b8ab2"
      },
      "execution_count": null,
      "outputs": [
        {
          "output_type": "stream",
          "name": "stdout",
          "text": [
            "Precision: 0.6360\n",
            "Recall: 0.4731\n",
            "F1 Score: 0.5280\n"
          ]
        }
      ]
    },
    {
      "cell_type": "code",
      "source": [
        "precision, recall, f1 = evaluate_f1(test_dataset, model, 0.2, boolean)\n",
        "print(f\"Precision: {precision:.4f}\")\n",
        "print(f\"Recall: {recall:.4f}\")\n",
        "print(f\"F1 Score: {f1:.4f}\")"
      ],
      "metadata": {
        "colab": {
          "base_uri": "https://localhost:8080/"
        },
        "id": "kqABcQRA-PuU",
        "outputId": "875b5eea-8214-4a20-aa02-fc813645ca99"
      },
      "execution_count": null,
      "outputs": [
        {
          "output_type": "stream",
          "name": "stdout",
          "text": [
            "Precision: 0.6272\n",
            "Recall: 0.5916\n",
            "F1 Score: 0.5992\n"
          ]
        }
      ]
    },
    {
      "cell_type": "code",
      "source": [
        "precision, recall, f1 = evaluate_f1(test_dataset, model, 0.1, boolean)\n",
        "print(f\"Precision: {precision:.4f}\")\n",
        "print(f\"Recall: {recall:.4f}\")\n",
        "print(f\"F1 Score: {f1:.4f}\")"
      ],
      "metadata": {
        "colab": {
          "base_uri": "https://localhost:8080/"
        },
        "id": "V5iG3QWs-d7H",
        "outputId": "a4ac41be-7b1c-430c-9d7b-1b921b5c4fb8"
      },
      "execution_count": null,
      "outputs": [
        {
          "output_type": "stream",
          "name": "stdout",
          "text": [
            "Precision: 0.5623\n",
            "Recall: 0.6537\n",
            "F1 Score: 0.5957\n"
          ]
        }
      ]
    },
    {
      "cell_type": "code",
      "source": [
        "def classify_sentence(sentence, model, device, max_len = 50):\n",
        "\n",
        "    model.eval()\n",
        "\n",
        "    tokenized = tokenize_en(sentence.lower())\n",
        "    if (len(tokenized) > 32):\n",
        "      tokenized = tokenized[:32]\n",
        "    embedded = []\n",
        "    diff = 32 - len(tokenized)\n",
        "    for i in range(diff):\n",
        "      tokenized.append('PAD') # consider making attention mask(addition!!!)\n",
        "    for i in range(len(tokenized)):\n",
        "      embedded.append(global_vectors.get_vecs_by_tokens([tokenized[i]], lower_case_backup=True).squeeze())\n",
        "    src = torch.tensor(torch.stack(embedded))\n",
        "    sentiment = model(src.view(1,32,300).to(device))\n",
        "\n",
        "    return sentiment"
      ],
      "metadata": {
        "id": "CKtJvk9IuFQF"
      },
      "execution_count": null,
      "outputs": []
    },
    {
      "cell_type": "code",
      "source": [
        "import matplotlib.pyplot as plt\n",
        "import matplotlib.ticker as ticker"
      ],
      "metadata": {
        "id": "2_DXdajEw-1h"
      },
      "execution_count": null,
      "outputs": []
    },
    {
      "cell_type": "code",
      "source": [
        "sentiment = ['anger','disgust','fear','joy','sadness','surprise', 'neutral']"
      ],
      "metadata": {
        "id": "imAchPQLCHuH"
      },
      "execution_count": null,
      "outputs": []
    },
    {
      "cell_type": "code",
      "source": [
        "def display_sentiment(sentence):\n",
        "    global sentiment, model, device\n",
        "    res = classify_sentence(sentence, model, device)\n",
        "    res = nn.functional.softmax(res, -1).squeeze().tolist()\n",
        "    res = [int(1000*d)/1000 for d in res]\n",
        "\n",
        "    fig = plt.figure(figsize=(6, 4))\n",
        "    ax = fig.add_subplot(1, 1, 1)\n",
        "    ax.bar(sentiment, res)\n",
        "    ax.set_xticklabels(ax.get_xticklabels(), rotation=60, ha='right')\n",
        "    plt.show()\n",
        "    plt.close()"
      ],
      "metadata": {
        "id": "HBX5bwbqw_hb"
      },
      "execution_count": null,
      "outputs": []
    },
    {
      "cell_type": "code",
      "source": [
        "display_sentiment(\"i am sure that i can do it\")"
      ],
      "metadata": {
        "colab": {
          "base_uri": "https://localhost:8080/",
          "height": 499
        },
        "id": "SZ4tyVvDzNrl",
        "outputId": "f5b9041d-69b3-4e3e-db42-e660e7396559"
      },
      "execution_count": null,
      "outputs": [
        {
          "output_type": "stream",
          "name": "stderr",
          "text": [
            "<ipython-input-106-fc8f1d42e349>:14: UserWarning: To copy construct from a tensor, it is recommended to use sourceTensor.clone().detach() or sourceTensor.clone().detach().requires_grad_(True), rather than torch.tensor(sourceTensor).\n",
            "  src = torch.tensor(torch.stack(embedded))\n",
            "<ipython-input-109-44e9039f977b>:10: UserWarning: FixedFormatter should only be used together with FixedLocator\n",
            "  ax.set_xticklabels(ax.get_xticklabels(), rotation=60, ha='right')\n"
          ]
        },
        {
          "output_type": "display_data",
          "data": {
            "text/plain": [
              "<Figure size 600x400 with 1 Axes>"
            ],
            "image/png": "[encoded data removed]"
          },
          "metadata": {}
        }
      ]
    },
    {
      "cell_type": "code",
      "source": [
        "display_sentiment(\"i love myself\")"
      ],
      "metadata": {
        "colab": {
          "base_uri": "https://localhost:8080/",
          "height": 499
        },
        "id": "3MRAalIAzQwI",
        "outputId": "8106fe57-e15e-4942-cdcd-3d1701f9c69a"
      },
      "execution_count": null,
      "outputs": [
        {
          "output_type": "stream",
          "name": "stderr",
          "text": [
            "<ipython-input-106-fc8f1d42e349>:14: UserWarning: To copy construct from a tensor, it is recommended to use sourceTensor.clone().detach() or sourceTensor.clone().detach().requires_grad_(True), rather than torch.tensor(sourceTensor).\n",
            "  src = torch.tensor(torch.stack(embedded))\n",
            "<ipython-input-109-44e9039f977b>:10: UserWarning: FixedFormatter should only be used together with FixedLocator\n",
            "  ax.set_xticklabels(ax.get_xticklabels(), rotation=60, ha='right')\n"
          ]
        },
        {
          "output_type": "display_data",
          "data": {
            "text/plain": [
              "<Figure size 600x400 with 1 Axes>"
            ],
            "image/png": "[encoded data removed]"
          },
          "metadata": {}
        }
      ]
    },
    {
      "cell_type": "code",
      "source": [
        "display_sentiment(\"i hope i can do well\")"
      ],
      "metadata": {
        "colab": {
          "base_uri": "https://localhost:8080/",
          "height": 499
        },
        "id": "Y2boBXlpzaiN",
        "outputId": "d1fcca9d-b827-4819-863f-38cd619e21ba"
      },
      "execution_count": null,
      "outputs": [
        {
          "output_type": "stream",
          "name": "stderr",
          "text": [
            "<ipython-input-106-fc8f1d42e349>:14: UserWarning: To copy construct from a tensor, it is recommended to use sourceTensor.clone().detach() or sourceTensor.clone().detach().requires_grad_(True), rather than torch.tensor(sourceTensor).\n",
            "  src = torch.tensor(torch.stack(embedded))\n",
            "<ipython-input-109-44e9039f977b>:10: UserWarning: FixedFormatter should only be used together with FixedLocator\n",
            "  ax.set_xticklabels(ax.get_xticklabels(), rotation=60, ha='right')\n"
          ]
        },
        {
          "output_type": "display_data",
          "data": {
            "text/plain": [
              "<Figure size 600x400 with 1 Axes>"
            ],
            "image/png": "[encoded data removed]"
          },
          "metadata": {}
        }
      ]
    },
    {
      "cell_type": "code",
      "source": [
        "display_sentiment(\"this is fun\")"
      ],
      "metadata": {
        "colab": {
          "base_uri": "https://localhost:8080/",
          "height": 499
        },
        "id": "Pea3dumzzerL",
        "outputId": "0ccf8a0c-52bd-4166-b169-af6f2bbe208a"
      },
      "execution_count": null,
      "outputs": [
        {
          "output_type": "stream",
          "name": "stderr",
          "text": [
            "<ipython-input-106-fc8f1d42e349>:14: UserWarning: To copy construct from a tensor, it is recommended to use sourceTensor.clone().detach() or sourceTensor.clone().detach().requires_grad_(True), rather than torch.tensor(sourceTensor).\n",
            "  src = torch.tensor(torch.stack(embedded))\n",
            "<ipython-input-109-44e9039f977b>:10: UserWarning: FixedFormatter should only be used together with FixedLocator\n",
            "  ax.set_xticklabels(ax.get_xticklabels(), rotation=60, ha='right')\n"
          ]
        },
        {
          "output_type": "display_data",
          "data": {
            "text/plain": [
              "<Figure size 600x400 with 1 Axes>"
            ],
            "image/png": "[encoded data removed]"
          },
          "metadata": {}
        }
      ]
    },
    {
      "cell_type": "code",
      "source": [
        "display_sentiment(\"This is too accurate 😂\")"
      ],
      "metadata": {
        "colab": {
          "base_uri": "https://localhost:8080/",
          "height": 499
        },
        "id": "zwAfvFJu1XjQ",
        "outputId": "b18e3871-53e2-4bc8-e8f0-472d06bfaf93"
      },
      "execution_count": null,
      "outputs": [
        {
          "output_type": "stream",
          "name": "stderr",
          "text": [
            "<ipython-input-106-fc8f1d42e349>:14: UserWarning: To copy construct from a tensor, it is recommended to use sourceTensor.clone().detach() or sourceTensor.clone().detach().requires_grad_(True), rather than torch.tensor(sourceTensor).\n",
            "  src = torch.tensor(torch.stack(embedded))\n",
            "<ipython-input-109-44e9039f977b>:10: UserWarning: FixedFormatter should only be used together with FixedLocator\n",
            "  ax.set_xticklabels(ax.get_xticklabels(), rotation=60, ha='right')\n"
          ]
        },
        {
          "output_type": "display_data",
          "data": {
            "text/plain": [
              "<Figure size 600x400 with 1 Axes>"
            ],
            "image/png": "[encoded data removed]"
          },
          "metadata": {}
        }
      ]
    },
    {
      "cell_type": "code",
      "source": [
        "display_sentiment(\"cant wait to go through a rebranded version of this pain again in college too\")"
      ],
      "metadata": {
        "colab": {
          "base_uri": "https://localhost:8080/",
          "height": 499
        },
        "id": "FG38NIUW4Jcf",
        "outputId": "2bf135b3-8070-488f-b2a5-d3c65d257e51"
      },
      "execution_count": null,
      "outputs": [
        {
          "output_type": "stream",
          "name": "stderr",
          "text": [
            "<ipython-input-106-fc8f1d42e349>:14: UserWarning: To copy construct from a tensor, it is recommended to use sourceTensor.clone().detach() or sourceTensor.clone().detach().requires_grad_(True), rather than torch.tensor(sourceTensor).\n",
            "  src = torch.tensor(torch.stack(embedded))\n",
            "<ipython-input-109-44e9039f977b>:10: UserWarning: FixedFormatter should only be used together with FixedLocator\n",
            "  ax.set_xticklabels(ax.get_xticklabels(), rotation=60, ha='right')\n"
          ]
        },
        {
          "output_type": "display_data",
          "data": {
            "text/plain": [
              "<Figure size 600x400 with 1 Axes>"
            ],
            "image/png": "[encoded data removed]"
          },
          "metadata": {}
        }
      ]
    },
    {
      "cell_type": "code",
      "source": [
        "display_sentiment(\"hold fast to dreams for if dreams die life is a broken-winged bird that cannot fly.\")"
      ],
      "metadata": {
        "colab": {
          "base_uri": "https://localhost:8080/",
          "height": 499
        },
        "id": "bM-SRxO58EuM",
        "outputId": "95f2cecd-e497-4508-cd32-d95733dda1f0"
      },
      "execution_count": null,
      "outputs": [
        {
          "output_type": "stream",
          "name": "stderr",
          "text": [
            "<ipython-input-106-fc8f1d42e349>:14: UserWarning: To copy construct from a tensor, it is recommended to use sourceTensor.clone().detach() or sourceTensor.clone().detach().requires_grad_(True), rather than torch.tensor(sourceTensor).\n",
            "  src = torch.tensor(torch.stack(embedded))\n",
            "<ipython-input-109-44e9039f977b>:10: UserWarning: FixedFormatter should only be used together with FixedLocator\n",
            "  ax.set_xticklabels(ax.get_xticklabels(), rotation=60, ha='right')\n"
          ]
        },
        {
          "output_type": "display_data",
          "data": {
            "text/plain": [
              "<Figure size 600x400 with 1 Axes>"
            ],
            "image/png": "[encoded data removed]"
          },
          "metadata": {}
        }
      ]
    },
    {
      "cell_type": "code",
      "source": [
        "display_sentiment(\"No mountain, nor sea, no thing of this world could keep us apart, because this is not my world... you are.\")"
      ],
      "metadata": {
        "colab": {
          "base_uri": "https://localhost:8080/",
          "height": 499
        },
        "id": "lvSquqh2wOkK",
        "outputId": "7ab7f06b-1b7b-43d1-ebf5-af15d539ffb7"
      },
      "execution_count": null,
      "outputs": [
        {
          "output_type": "stream",
          "name": "stderr",
          "text": [
            "<ipython-input-106-fc8f1d42e349>:14: UserWarning: To copy construct from a tensor, it is recommended to use sourceTensor.clone().detach() or sourceTensor.clone().detach().requires_grad_(True), rather than torch.tensor(sourceTensor).\n",
            "  src = torch.tensor(torch.stack(embedded))\n",
            "<ipython-input-109-44e9039f977b>:10: UserWarning: FixedFormatter should only be used together with FixedLocator\n",
            "  ax.set_xticklabels(ax.get_xticklabels(), rotation=60, ha='right')\n"
          ]
        },
        {
          "output_type": "display_data",
          "data": {
            "text/plain": [
              "<Figure size 600x400 with 1 Axes>"
            ],
            "image/png": "[encoded data removed]"
          },
          "metadata": {}
        }
      ]
    },
    {
      "cell_type": "code",
      "source": [
        "display_sentiment(\"this is not fun\")"
      ],
      "metadata": {
        "colab": {
          "base_uri": "https://localhost:8080/",
          "height": 499
        },
        "id": "FPtjjuJSbUPg",
        "outputId": "b756454e-9da8-44c7-f7a9-b8e9f546c85b"
      },
      "execution_count": null,
      "outputs": [
        {
          "output_type": "stream",
          "name": "stderr",
          "text": [
            "<ipython-input-106-fc8f1d42e349>:14: UserWarning: To copy construct from a tensor, it is recommended to use sourceTensor.clone().detach() or sourceTensor.clone().detach().requires_grad_(True), rather than torch.tensor(sourceTensor).\n",
            "  src = torch.tensor(torch.stack(embedded))\n",
            "<ipython-input-109-44e9039f977b>:10: UserWarning: FixedFormatter should only be used together with FixedLocator\n",
            "  ax.set_xticklabels(ax.get_xticklabels(), rotation=60, ha='right')\n"
          ]
        },
        {
          "output_type": "display_data",
          "data": {
            "text/plain": [
              "<Figure size 600x400 with 1 Axes>"
            ],
            "image/png": "[encoded data removed]"
          },
          "metadata": {}
        }
      ]
    },
    {
      "cell_type": "markdown",
      "source": [
        "## example sentences (from poems)\n",
        "- No mountain, nor sea, no thing of this world could keep us apart, because this is not my world... you are.\n",
        "- hold fast to dreams for if dreams die life is a broken-winged bird that cannot fly."
      ],
      "metadata": {
        "id": "zE7pkq0E7kE0"
      }
    },
    {
      "cell_type": "code",
      "source": [
        "display_sentiment(\"hold fast to dreams for if dreams die life is a broken-winged bird that cannot fly.\")"
      ],
      "metadata": {
        "id": "T_4L2ySzye-y",
        "colab": {
          "base_uri": "https://localhost:8080/",
          "height": 499
        },
        "outputId": "d26b434d-0d31-4d60-d736-f6f1d0342e9c"
      },
      "execution_count": null,
      "outputs": [
        {
          "output_type": "stream",
          "name": "stderr",
          "text": [
            "<ipython-input-106-fc8f1d42e349>:14: UserWarning: To copy construct from a tensor, it is recommended to use sourceTensor.clone().detach() or sourceTensor.clone().detach().requires_grad_(True), rather than torch.tensor(sourceTensor).\n",
            "  src = torch.tensor(torch.stack(embedded))\n",
            "<ipython-input-109-44e9039f977b>:10: UserWarning: FixedFormatter should only be used together with FixedLocator\n",
            "  ax.set_xticklabels(ax.get_xticklabels(), rotation=60, ha='right')\n"
          ]
        },
        {
          "output_type": "display_data",
          "data": {
            "text/plain": [
              "<Figure size 600x400 with 1 Axes>"
            ],
            "image/png": "[encoded data removed]"
          },
          "metadata": {}
        }
      ]
    },
    {
      "cell_type": "code",
      "source": [
        "display_sentiment(\"No mountain, nor sea, no thing of this world could keep us apart, because this is not my world... you are.\")"
      ],
      "metadata": {
        "id": "pDt0s0F982K_",
        "colab": {
          "base_uri": "https://localhost:8080/",
          "height": 499
        },
        "outputId": "d424e90f-5da9-4bac-d774-c0037e608ede"
      },
      "execution_count": null,
      "outputs": [
        {
          "output_type": "stream",
          "name": "stderr",
          "text": [
            "<ipython-input-106-fc8f1d42e349>:14: UserWarning: To copy construct from a tensor, it is recommended to use sourceTensor.clone().detach() or sourceTensor.clone().detach().requires_grad_(True), rather than torch.tensor(sourceTensor).\n",
            "  src = torch.tensor(torch.stack(embedded))\n",
            "<ipython-input-109-44e9039f977b>:10: UserWarning: FixedFormatter should only be used together with FixedLocator\n",
            "  ax.set_xticklabels(ax.get_xticklabels(), rotation=60, ha='right')\n"
          ]
        },
        {
          "output_type": "display_data",
          "data": {
            "text/plain": [
              "<Figure size 600x400 with 1 Axes>"
            ],
            "image/png": "[encoded data removed]"
          },
          "metadata": {}
        }
      ]
    }
  ],
  "metadata": {
    "colab": {
      "provenance": [],
      "gpuType": "T4",
      "include_colab_link": true
    },
    "kernelspec": {
      "display_name": "Python 3",
      "name": "python3"
    },
    "language_info": {
      "codemirror_mode": {
        "name": "ipython",
        "version": 3
      },
      "file_extension": ".py",
      "mimetype": "text/x-python",
      "name": "python",
      "nbconvert_exporter": "python",
      "pygments_lexer": "ipython3",
      "version": "3.6.8"
    },
    "accelerator": "GPU"
  },
  "nbformat": 4,
  "nbformat_minor": 0
}