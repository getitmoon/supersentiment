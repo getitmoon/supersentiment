{
  "cells": [
    {
      "cell_type": "markdown",
      "metadata": {
        "id": "view-in-github",
        "colab_type": "text"
      },
      "source": [
        "<a href=\"https://colab.research.google.com/github/getitmoon/supersentiment/blob/main/%5Bchar-level%5DEmotions.ipynb\" target=\"_parent\"><img src=\"https://colab.research.google.com/assets/colab-badge.svg\" alt=\"Open In Colab\"/></a>"
      ]
    },
    {
      "cell_type": "code",
      "execution_count": null,
      "metadata": {
        "colab": {
          "base_uri": "https://localhost:8080/"
        },
        "id": "AedM7zCx2N8b",
        "outputId": "d9abef25-0d9d-4547-d8c1-77f8395fe578"
      },
      "outputs": [
        {
          "output_type": "stream",
          "name": "stdout",
          "text": [
            "Mounted at /content/drive\n"
          ]
        }
      ],
      "source": [
        "from google.colab import drive\n",
        "drive.mount('/content/drive')"
      ]
    },
    {
      "cell_type": "code",
      "execution_count": null,
      "metadata": {
        "colab": {
          "base_uri": "https://localhost:8080/"
        },
        "id": "RIpoNhOS2S1Y",
        "outputId": "65292ca3-7fd2-4b44-ba2d-0b7ffa4e803a"
      },
      "outputs": [
        {
          "output_type": "stream",
          "name": "stdout",
          "text": [
            "/content/drive/MyDrive/Colab Notebooks/Sentiment_classification\n"
          ]
        }
      ],
      "source": [
        "%cd /content/drive/MyDrive/Colab\\ Notebooks/Sentiment_classification/"
      ]
    },
    {
      "cell_type": "markdown",
      "metadata": {
        "id": "pZW3AO72H0PV"
      },
      "source": [
        "### **Dataset**"
      ]
    },
    {
      "cell_type": "code",
      "execution_count": null,
      "metadata": {
        "id": "3Fg0l8naH-mM"
      },
      "outputs": [],
      "source": [
        "def make_one_hot(labels, num):\n",
        "  one_hot = []\n",
        "  for i in range(num):\n",
        "    one_hot.append(0)\n",
        "  for idx in labels:\n",
        "    one_hot[idx] = 1\n",
        "  return one_hot"
      ]
    },
    {
      "cell_type": "markdown",
      "metadata": {
        "id": "cigqlsmB6cN4"
      },
      "source": [
        "### **Dataset1 : Emotions**"
      ]
    },
    {
      "cell_type": "code",
      "execution_count": null,
      "metadata": {
        "id": "y8-Wi0wqh9Qh"
      },
      "outputs": [],
      "source": [
        "# train dataset\n",
        "tokenized_train_dataset = []\n",
        "\n",
        "# validation dataset\n",
        "tokenized_validation_dataset = []\n",
        "\n",
        "# test dataset/\n",
        "tokenized_test_dataset = []"
      ]
    },
    {
      "cell_type": "code",
      "execution_count": null,
      "metadata": {
        "id": "6A3hLXD_6gN8"
      },
      "outputs": [],
      "source": [
        "dataset_list = [(\"./dataset/Emotions/original_dataset/train.csv\", 1, 2, tokenized_train_dataset, 6),\n",
        "                (\"./dataset/Emotions/original_dataset/dev.csv\", 1, 2, tokenized_validation_dataset, 6),\n",
        "                (\"./dataset/Emotions/original_dataset/test.csv\", 1, 2, tokenized_test_dataset, 6)]"
      ]
    },
    {
      "cell_type": "markdown",
      "metadata": {
        "id": "Npnh19Zh6rLg"
      },
      "source": [
        "### **Dataset2: GoEmotions**"
      ]
    },
    {
      "cell_type": "code",
      "execution_count": null,
      "metadata": {
        "id": "imR2X31U6xl3"
      },
      "outputs": [],
      "source": [
        "# dataset_list = [(\"./dataset/GoEmotions/train.tsv\", 0, 1, tokenized_train_dataset, 28),\n",
        "#                 (\"./dataset/GoEmotions/dev.tsv\", 0, 1, tokenized_validation_dataset, 28),\n",
        "#                 (\"./dataset/GoEmotions/test.tsv\", 0, 1, tokenized_test_dataset, 28)]"
      ]
    },
    {
      "cell_type": "code",
      "execution_count": null,
      "metadata": {
        "id": "t5NmTTLu9R4A"
      },
      "outputs": [],
      "source": [
        "def build_charset(paths):\n",
        "  charset = set()\n",
        "  for path in paths:\n",
        "    rawData = open(path[0]).read().split('\\n')\n",
        "    length = len(rawData) - 1\n",
        "    chars = set()\n",
        "    delimiter = \",\"\n",
        "    if (path[0].endswith('.tsv')):\n",
        "        delimiter = \"\\t\"\n",
        "    for i in range(length):\n",
        "      chars = chars | set(rawData[i].split(delimiter)[path[1]])\n",
        "    charset = charset | chars\n",
        "  return charset\n",
        "\n",
        "charset = build_charset(dataset_list)"
      ]
    },
    {
      "cell_type": "code",
      "execution_count": null,
      "metadata": {
        "colab": {
          "base_uri": "https://localhost:8080/"
        },
        "id": "2TA_x11qHi_N",
        "outputId": "297799af-3145-412c-c759-fe34cdee045f"
      },
      "outputs": [
        {
          "output_type": "stream",
          "name": "stdout",
          "text": [
            "{'e', 'p', 'v', 's', 'b', 'w', 'y', 'n', 'i', 'l', 'm', 'h', 'd', 'z', 'f', 'a', 'c', 'x', 'u', 'k', 'o', 'g', ' ', 'q', 'j', 'r', 't'}\n"
          ]
        }
      ],
      "source": [
        "print(charset)"
      ]
    },
    {
      "cell_type": "code",
      "source": [
        "print(len(charset))"
      ],
      "metadata": {
        "colab": {
          "base_uri": "https://localhost:8080/"
        },
        "id": "n0HezuZuVt6X",
        "outputId": "117ece75-444d-42ae-9c67-53ba0840ac0e"
      },
      "execution_count": null,
      "outputs": [
        {
          "output_type": "stream",
          "name": "stdout",
          "text": [
            "27\n"
          ]
        }
      ]
    },
    {
      "cell_type": "code",
      "execution_count": null,
      "metadata": {
        "id": "vKFyfSWxI7T1"
      },
      "outputs": [],
      "source": [
        "# print(f\"charset2: {len(charset2)}\")"
      ]
    },
    {
      "cell_type": "code",
      "execution_count": null,
      "metadata": {
        "id": "mhvbpiWCJ27L"
      },
      "outputs": [],
      "source": [
        "# print(charset2)"
      ]
    },
    {
      "cell_type": "markdown",
      "metadata": {
        "id": "jnakFHNBKUBx"
      },
      "source": [
        "### **Emotions experiment**"
      ]
    },
    {
      "cell_type": "code",
      "execution_count": null,
      "metadata": {
        "id": "ORi_uriLKB8q"
      },
      "outputs": [],
      "source": [
        "char_stoi = {'<pad>':0}\n",
        "char_itos = {0:'<pad>'}\n",
        "for i, char in enumerate(charset):\n",
        "  char_stoi[char] = i+1\n",
        "  char_itos[i+1] = char"
      ]
    },
    {
      "cell_type": "code",
      "execution_count": null,
      "metadata": {
        "id": "ToDCi2GP9Csy"
      },
      "outputs": [],
      "source": [
        "class dataset:\n",
        "  def __init__(self, src, trg):\n",
        "    self.src = src\n",
        "    self.trg = trg"
      ]
    },
    {
      "cell_type": "code",
      "execution_count": null,
      "metadata": {
        "id": "YG7bmCd6KxCr"
      },
      "outputs": [],
      "source": [
        "from tqdm import tqdm"
      ]
    },
    {
      "cell_type": "code",
      "execution_count": null,
      "metadata": {
        "id": "knpPrQ2eiAg7"
      },
      "outputs": [],
      "source": [
        "def tokenize(paths):\n",
        "  global char_stoi\n",
        "  for path in paths:\n",
        "    rawData = open(path[0]).read().split('\\n')\n",
        "    length = len(rawData) - 1\n",
        "    if path[0].endswith(\"train.csv\"):\n",
        "      length = 40000\n",
        "    elif path[0].endswith(\"dev.csv\"):\n",
        "      length = 5000\n",
        "    elif path[0].endswith(\"test.csv\"):\n",
        "      length = 5000\n",
        "    delimiter = \",\"\n",
        "    if (path[0].endswith('.tsv')):\n",
        "        delimiter = \"\\t\"\n",
        "    for i in tqdm(range(length)):\n",
        "      line = rawData[i].split(delimiter)\n",
        "      chars = [char_stoi[c] for c in line[path[1]]] # path[1] is sentence index\n",
        "      if (len(chars) > 36):\n",
        "        chars = chars[:36]\n",
        "      diff = 36 - len(chars)\n",
        "      for i in range(diff):\n",
        "        chars.append(0)\n",
        "      label = [int(l) for l in line[path[2]].split(\",\")]\n",
        "      path[3].append(dataset(chars, make_one_hot(label, path[4])))"
      ]
    },
    {
      "cell_type": "code",
      "execution_count": null,
      "metadata": {
        "id": "7uSF5zNO2NES"
      },
      "outputs": [],
      "source": [
        "import torch\n",
        "import torch.nn as nn\n",
        "import torch.optim as optim\n",
        "\n",
        "import numpy as np\n",
        "\n",
        "import random\n",
        "import math\n",
        "import time\n",
        "\n",
        "SEED = 1234\n",
        "\n",
        "random.seed(SEED)\n",
        "np.random.seed(SEED)\n",
        "torch.manual_seed(SEED)\n",
        "torch.cuda.manual_seed(SEED)\n",
        "torch.backends.cudnn.deterministic = True"
      ]
    },
    {
      "cell_type": "code",
      "execution_count": null,
      "metadata": {
        "id": "T79BVbs6284e"
      },
      "outputs": [],
      "source": [
        "# for using GPU\n",
        "device = torch.device('cuda' if torch.cuda.is_available() else 'cpu')"
      ]
    },
    {
      "cell_type": "code",
      "execution_count": null,
      "metadata": {
        "colab": {
          "base_uri": "https://localhost:8080/"
        },
        "id": "ALvhFhnqJyaX",
        "outputId": "ff657380-5299-47b5-fd6d-d090e5c9f40c"
      },
      "outputs": [
        {
          "output_type": "stream",
          "name": "stderr",
          "text": [
            "100%|██████████| 40000/40000 [00:00<00:00, 83116.01it/s]\n",
            "100%|██████████| 5000/5000 [00:00<00:00, 32116.19it/s]\n",
            "100%|██████████| 5000/5000 [00:00<00:00, 108132.95it/s]\n"
          ]
        }
      ],
      "source": [
        "tokenize(dataset_list)"
      ]
    },
    {
      "cell_type": "code",
      "source": [
        "tokenized_train_dataset[0].src"
      ],
      "metadata": {
        "colab": {
          "base_uri": "https://localhost:8080/"
        },
        "collapsed": true,
        "id": "m9i3AZKfIc-g",
        "outputId": "5e207e3b-05dc-41f6-a2b3-b1361fc7df3b"
      },
      "execution_count": null,
      "outputs": [
        {
          "output_type": "execute_result",
          "data": {
            "text/plain": [
              "[9,\n",
              " 23,\n",
              " 25,\n",
              " 19,\n",
              " 4,\n",
              " 27,\n",
              " 23,\n",
              " 15,\n",
              " 1,\n",
              " 1,\n",
              " 10,\n",
              " 23,\n",
              " 26,\n",
              " 1,\n",
              " 16,\n",
              " 10,\n",
              " 10,\n",
              " 7,\n",
              " 23,\n",
              " 12,\n",
              " 1,\n",
              " 10,\n",
              " 2,\n",
              " 10,\n",
              " 1,\n",
              " 4,\n",
              " 4,\n",
              " 23,\n",
              " 16,\n",
              " 8,\n",
              " 13,\n",
              " 23,\n",
              " 12,\n",
              " 1,\n",
              " 16,\n",
              " 3]"
            ]
          },
          "metadata": {},
          "execution_count": 19
        }
      ]
    },
    {
      "cell_type": "code",
      "source": [
        "BATCH_SIZE = 128\n",
        "\n",
        "def batch(dt):\n",
        "  batched = []\n",
        "  one_batch_s = []\n",
        "  one_batch_t = []\n",
        "  i = 0\n",
        "  for data in dt:\n",
        "    s = data.src\n",
        "    t = data.trg\n",
        "    i += 1\n",
        "    one_batch_s.append(s)\n",
        "    one_batch_t.append(t)\n",
        "    if (i == BATCH_SIZE): # append batch and initialize\n",
        "      batched.append(dataset(torch.tensor(one_batch_s).to(device), torch.tensor(one_batch_t).to(device)))\n",
        "      one_batch_s = []\n",
        "      one_batch_t = []\n",
        "      i = 0\n",
        "  if i != BATCH_SIZE:\n",
        "    batched.append(dataset(torch.tensor(one_batch_s).to(device), torch.tensor(one_batch_t).to(device)))\n",
        "  return batched"
      ],
      "metadata": {
        "id": "lSJM_Ju5QUcZ"
      },
      "execution_count": null,
      "outputs": []
    },
    {
      "cell_type": "code",
      "source": [
        "# batched train dataset\n",
        "train_dataset = batch(tokenized_train_dataset)\n",
        "\n",
        "# batched validation dataset\n",
        "validation_dataset = batch(tokenized_validation_dataset)\n",
        "\n",
        "# batched test dataset\n",
        "test_dataset = batch(tokenized_test_dataset)"
      ],
      "metadata": {
        "id": "OBn5yS99QXzk"
      },
      "execution_count": null,
      "outputs": []
    },
    {
      "cell_type": "code",
      "source": [
        "train_dataset[0].src"
      ],
      "metadata": {
        "colab": {
          "base_uri": "https://localhost:8080/"
        },
        "id": "GuaY9oZdVJDn",
        "outputId": "236e6e02-a181-4614-9dc1-37a643f6c4dc"
      },
      "execution_count": null,
      "outputs": [
        {
          "output_type": "execute_result",
          "data": {
            "text/plain": [
              "tensor([[ 9, 23, 25,  ...,  1, 16,  3],\n",
              "        [ 9,  3,  1,  ..., 16,  5, 21],\n",
              "        [ 9, 23, 22,  ..., 13, 11, 26],\n",
              "        ...,\n",
              "        [ 9, 11, 23,  ..., 23, 27, 12],\n",
              "        [ 9, 23,  8,  ...,  3,  1,  8],\n",
              "        [ 9, 23, 15,  ...,  4, 27, 23]], device='cuda:0')"
            ]
          },
          "metadata": {},
          "execution_count": 22
        }
      ]
    },
    {
      "cell_type": "markdown",
      "metadata": {
        "id": "zY_0vVpl2cFl"
      },
      "source": [
        "### **Build Model**"
      ]
    },
    {
      "cell_type": "code",
      "execution_count": null,
      "metadata": {
        "id": "Q10o0nkazhaz"
      },
      "outputs": [],
      "source": [
        "class Encoder(nn.Module):\n",
        "    def __init__(self, input_dim, hid_dim, n_layers, n_heads, pf_dim, dropout, device, max_length = 36): # 36 보다 작게 하면 cuda 에러 남\n",
        "        super().__init__()\n",
        "\n",
        "        ''' Input Embedding '''\n",
        "        self.tok_embedding = nn.Embedding(input_dim, hid_dim)\n",
        "        self.pos_embedding = nn.Embedding(max_length, hid_dim)\n",
        "\n",
        "        ''' Multiple Encoder Layers '''\n",
        "        # we use multiple encoder layers (e.g., 6 in the original Transformer paper)\n",
        "        self.layers = nn.ModuleList([EncoderLayer(hid_dim, n_heads, pf_dim, dropout)\n",
        "                                     for _ in range(n_layers)])\n",
        "\n",
        "        self.dropout = nn.Dropout(dropout)\n",
        "\n",
        "        self.scale = nn.Parameter(torch.sqrt(torch.FloatTensor([hid_dim])))\n",
        "        self.device = device\n",
        "\n",
        "    def forward(self, src):\n",
        "        seq_length = src.size(1) # with batch src.size(1)\n",
        "        # positional embedding dimension: S x H\n",
        "        embedded_pos = self.pos_embedding(torch.arange(seq_length, device=self.device))\n",
        "        # token embedding, dimension: S x H\n",
        "        embedded_tok = self.tok_embedding(src)\n",
        "        # two embeddings added, dimension: S x H; positional embedding broadcasted\n",
        "        embedded = torch.add(embedded_tok, embedded_pos)\n",
        "\n",
        "        output = embedded\n",
        "        for layer in self.layers:\n",
        "          output = layer(output, None)\n",
        "          output = self.dropout(output)\n",
        "\n",
        "        return output"
      ]
    },
    {
      "cell_type": "code",
      "execution_count": null,
      "metadata": {
        "id": "E4Zte8jXzkIh"
      },
      "outputs": [],
      "source": [
        "class EncoderLayer(nn.Module):\n",
        "    def __init__(self, hid_dim, n_heads, pf_dim, dropout):\n",
        "        super().__init__()\n",
        "\n",
        "        ''' Multi Head self-Attention '''\n",
        "        self.self_attention = MultiHeadAttentionLayer(hid_dim, n_heads, dropout, device)\n",
        "        self.self_attn_layer_norm = nn.LayerNorm(hid_dim)\n",
        "\n",
        "        ''' Positional FeedForward Layer'''\n",
        "        self.positionwise_feedforward = PositionwiseFeedforwardLayer(hid_dim, pf_dim, dropout)\n",
        "        self.ff_layer_norm = nn.LayerNorm(hid_dim)\n",
        "\n",
        "        self.dropout = nn.Dropout(dropout)\n",
        "\n",
        "    def forward(self, src, src_mask):\n",
        "        # multihead attention\n",
        "        # dimension: S x H\n",
        "        x_a, _ = self.self_attention(src, src, src, src_mask)\n",
        "        x_a = self.self_attn_layer_norm(self.dropout(x_a) + src)\n",
        "        # positionwise feed forward\n",
        "        x_f = self.positionwise_feedforward(x_a)\n",
        "        src = self.ff_layer_norm(self.dropout(x_f) + x_a)\n",
        "\n",
        "        return src"
      ]
    },
    {
      "cell_type": "code",
      "execution_count": null,
      "metadata": {
        "id": "1zPC7qeVzmo-"
      },
      "outputs": [],
      "source": [
        "class MultiHeadAttentionLayer(nn.Module):\n",
        "    def __init__(self, hid_dim, n_heads, dropout, device):\n",
        "        super().__init__()\n",
        "\n",
        "        # TODO: write your code\n",
        "        # assumption: hid_dim is a multiple of n_heads\n",
        "        self.n_heads = n_heads\n",
        "\n",
        "        self.weight_query = nn.Linear(hid_dim, hid_dim)\n",
        "        self.weight_key = nn.Linear(hid_dim, hid_dim)\n",
        "        self.weight_value = nn.Linear(hid_dim, hid_dim)\n",
        "\n",
        "        self.scale = torch.sqrt(torch.FloatTensor([hid_dim])).to(device)\n",
        "        self.dropout = nn.Dropout(dropout)\n",
        "\n",
        "    def forward(self, query, key, value, mask = None):\n",
        "\n",
        "        # TODO: write your code\n",
        "        # dimension: B x S(1/2/3) x n_heads x H/n_heads\n",
        "        Q = self.weight_query(query).view(query.size(0), query.size(1), self.n_heads, -1)\n",
        "        K = self.weight_key(key).view(key.size(0), key.size(1), self.n_heads, -1)\n",
        "        V = self.weight_value(value).view(value.size(0), value.size(1), self.n_heads, -1)\n",
        "\n",
        "        # dimension: B x n_heads x S x H/n_heads\n",
        "        Q, K, V = torch.transpose(Q, 1, 2), torch.transpose(K, 1, 2), torch.transpose(V, 1, 2)\n",
        "        # dimension: B x n_heads x S1(query sentence length) x S2(key sentence length)\n",
        "        dot = torch.matmul(Q, torch.transpose(K, 2, 3))\n",
        "        scaled_dot = torch.div(dot, self.scale)\n",
        "        if mask is not None:\n",
        "          scaled_dot = scaled_dot.masked_fill(mask, -1e19) # -math.inf\n",
        "\n",
        "        # attention dimension: B x n_heads x S1 x S2\n",
        "        attention = nn.functional.softmax(scaled_dot, dim=3)\n",
        "\n",
        "        attention = self.dropout(attention)\n",
        "        # dimension: B x n_heads x S1 x H/n_heads\n",
        "        weighted_sum = torch.matmul(attention, V) # V dimension: B x n_heads x S x H/n_heads\n",
        "        # concat multiheads\n",
        "        x = torch.cat([weighted_sum[:, i, :, :] for i in range(self.n_heads)], dim=-1)\n",
        "\n",
        "        return x, attention"
      ]
    },
    {
      "cell_type": "code",
      "execution_count": null,
      "metadata": {
        "id": "PIa0KNaGzo3C"
      },
      "outputs": [],
      "source": [
        "class PositionwiseFeedforwardLayer(nn.Module):\n",
        "    def __init__(self, hid_dim, pf_dim, dropout):\n",
        "        super().__init__()\n",
        "\n",
        "        # TODO: write your code\n",
        "        self.linear1 = nn.Linear(hid_dim, pf_dim)\n",
        "        self.relu = nn.ReLU()\n",
        "        self.linear2 = nn.Linear(pf_dim, hid_dim)\n",
        "        self.dropout = nn.Dropout(dropout)\n",
        "\n",
        "    def forward(self, x):\n",
        "\n",
        "        # TODO: write your code\n",
        "        x = self.relu(self.linear1(x))\n",
        "        x = self.dropout(x)\n",
        "        x = self.linear2(x)\n",
        "\n",
        "        return x"
      ]
    },
    {
      "cell_type": "code",
      "execution_count": null,
      "metadata": {
        "id": "kP60T18jzsYa"
      },
      "outputs": [],
      "source": [
        "class Classification(nn.Module):\n",
        "    def __init__(self,\n",
        "                 encoder,\n",
        "                 hid_dim,\n",
        "                 out_dim,\n",
        "                 device):\n",
        "        super().__init__()\n",
        "        self.encoder = encoder\n",
        "        self.linear = nn.Linear(hid_dim, out_dim) # can add more!!!\n",
        "        self.device = device\n",
        "\n",
        "\n",
        "    def forward(self, src, trg=None):\n",
        "\n",
        "        ## TODO: write down the forward step\n",
        "        # encoder output dimension: B x S_en x H\n",
        "        en_output = self.encoder(src)\n",
        "        en_output = torch.sum(en_output, 1) # B x H\n",
        "        # B x O\n",
        "        output = self.linear(en_output)\n",
        "\n",
        "        return output"
      ]
    },
    {
      "cell_type": "code",
      "execution_count": null,
      "metadata": {
        "id": "Gyh4BD6R0I-6"
      },
      "outputs": [],
      "source": [
        "INPUT_DIM = len(char_stoi)\n",
        "# WINPUT_DIM = 256\n",
        "# WEN_LAYERS = 4\n",
        "# INPUT_DIM = WINPUT_DIM * WEN_LAYERS\n",
        "OUTPUT_DIM = 6\n",
        "HID_DIM = 256\n",
        "ENC_LAYERS = 3 #2\n",
        "ENC_HEADS = 4\n",
        "ENC_PF_DIM = 256\n",
        "ENC_DROPOUT = 0.1\n",
        "\n",
        "# wenc = wordEncoder(len(char_stoi), WINPUT_DIM)\n",
        "enc = Encoder(INPUT_DIM, HID_DIM, ENC_LAYERS, ENC_HEADS, ENC_PF_DIM, ENC_DROPOUT, device)"
      ]
    },
    {
      "cell_type": "code",
      "execution_count": null,
      "metadata": {
        "id": "rjcFv2Ve0LtS"
      },
      "outputs": [],
      "source": [
        "model = Classification(enc, HID_DIM, OUTPUT_DIM, device).to(device)"
      ]
    },
    {
      "cell_type": "code",
      "execution_count": null,
      "metadata": {
        "colab": {
          "base_uri": "https://localhost:8080/"
        },
        "id": "pHlqlu8A0PsL",
        "outputId": "50b22b70-db19-4db6-f8f6-d43aa87ef9d5"
      },
      "outputs": [
        {
          "output_type": "stream",
          "name": "stdout",
          "text": [
            "The model has 1,007,879 trainable parameters\n"
          ]
        }
      ],
      "source": [
        "def count_parameters(model):\n",
        "    return sum(p.numel() for p in model.parameters() if p.requires_grad)\n",
        "\n",
        "print(f'The model has {count_parameters(model):,} trainable parameters')"
      ]
    },
    {
      "cell_type": "code",
      "execution_count": null,
      "metadata": {
        "id": "2FvHdeG90VuP"
      },
      "outputs": [],
      "source": [
        "LEARNING_RATE = 0.0005\n",
        "\n",
        "optimizer = torch.optim.Adam(model.parameters(), lr = LEARNING_RATE) # Adam, try SGD"
      ]
    },
    {
      "cell_type": "code",
      "execution_count": null,
      "metadata": {
        "id": "RslqhDWO0YFO"
      },
      "outputs": [],
      "source": [
        "criterion = nn.BCEWithLogitsLoss()"
      ]
    },
    {
      "cell_type": "code",
      "execution_count": null,
      "metadata": {
        "id": "ELE1Orxu0b9B"
      },
      "outputs": [],
      "source": [
        "def train(model, iterator, optimizer, criterion):\n",
        "\n",
        "    model.train()\n",
        "\n",
        "    epoch_loss = 0\n",
        "\n",
        "    for i, batch in enumerate(iterator):\n",
        "\n",
        "        src = batch.src\n",
        "        trg = batch.trg\n",
        "\n",
        "        optimizer.zero_grad()\n",
        "\n",
        "        # TODO: write down your training code here\n",
        "        output = model(src)\n",
        "        # loss\n",
        "        loss = criterion(output, trg.float())\n",
        "\n",
        "        # perform a backwared pass, and update the weights\n",
        "        loss.backward()\n",
        "        optimizer.step()\n",
        "\n",
        "        epoch_loss += loss.item()\n",
        "\n",
        "    return epoch_loss / len(iterator)"
      ]
    },
    {
      "cell_type": "code",
      "execution_count": null,
      "metadata": {
        "id": "rWWptw9G0e5f"
      },
      "outputs": [],
      "source": [
        "def evaluate(model, iterator, criterion):\n",
        "\n",
        "    model.eval()\n",
        "\n",
        "    epoch_loss = 0\n",
        "\n",
        "    with torch.no_grad():\n",
        "\n",
        "        for i, batch in enumerate(iterator):\n",
        "\n",
        "            src = batch.src\n",
        "            trg = batch.trg\n",
        "\n",
        "            # TODO: write down your training code here\n",
        "            output = model(src)\n",
        "            # loss\n",
        "            loss = criterion(output, trg.float())\n",
        "\n",
        "            epoch_loss += loss.item()\n",
        "\n",
        "    return epoch_loss / len(iterator)"
      ]
    },
    {
      "cell_type": "code",
      "execution_count": null,
      "metadata": {
        "id": "iid3LPZ40hTF"
      },
      "outputs": [],
      "source": [
        "def epoch_time(start_time, end_time):\n",
        "    elapsed_time = end_time - start_time\n",
        "    elapsed_mins = int(elapsed_time / 60)\n",
        "    elapsed_secs = int(elapsed_time - (elapsed_mins * 60))\n",
        "    return elapsed_mins, elapsed_secs"
      ]
    },
    {
      "cell_type": "code",
      "execution_count": null,
      "metadata": {
        "colab": {
          "base_uri": "https://localhost:8080/"
        },
        "id": "jBv5QW8S0jn8",
        "outputId": "53ff6a26-e2d3-4564-9247-2938e5278eb0"
      },
      "outputs": [
        {
          "output_type": "stream",
          "name": "stdout",
          "text": [
            "Epoch: 01 | Time: 0m 3s\n",
            "\tTrain Loss: 0.382\n",
            "\t Val. Loss: 0.389\n",
            "Epoch: 02 | Time: 0m 3s\n",
            "\tTrain Loss: 0.377\n",
            "\t Val. Loss: 0.387\n",
            "Epoch: 03 | Time: 0m 3s\n",
            "\tTrain Loss: 0.372\n",
            "\t Val. Loss: 0.384\n",
            "Epoch: 04 | Time: 0m 3s\n",
            "\tTrain Loss: 0.368\n",
            "\t Val. Loss: 0.381\n",
            "Epoch: 05 | Time: 0m 3s\n",
            "\tTrain Loss: 0.364\n",
            "\t Val. Loss: 0.385\n",
            "Epoch: 06 | Time: 0m 3s\n",
            "\tTrain Loss: 0.361\n",
            "\t Val. Loss: 0.384\n",
            "Epoch: 07 | Time: 0m 3s\n",
            "\tTrain Loss: 0.359\n",
            "\t Val. Loss: 0.380\n",
            "Epoch: 08 | Time: 0m 3s\n",
            "\tTrain Loss: 0.355\n",
            "\t Val. Loss: 0.379\n",
            "Epoch: 09 | Time: 0m 3s\n",
            "\tTrain Loss: 0.353\n",
            "\t Val. Loss: 0.382\n",
            "Epoch: 10 | Time: 0m 3s\n",
            "\tTrain Loss: 0.349\n",
            "\t Val. Loss: 0.376\n",
            "Epoch: 11 | Time: 0m 3s\n",
            "\tTrain Loss: 0.345\n",
            "\t Val. Loss: 0.382\n",
            "Epoch: 12 | Time: 0m 3s\n",
            "\tTrain Loss: 0.341\n",
            "\t Val. Loss: 0.379\n",
            "Epoch: 13 | Time: 0m 3s\n",
            "\tTrain Loss: 0.339\n",
            "\t Val. Loss: 0.385\n",
            "Epoch: 14 | Time: 0m 3s\n",
            "\tTrain Loss: 0.338\n",
            "\t Val. Loss: 0.380\n",
            "Epoch: 15 | Time: 0m 3s\n",
            "\tTrain Loss: 0.336\n",
            "\t Val. Loss: 0.379\n",
            "Epoch: 16 | Time: 0m 3s\n",
            "\tTrain Loss: 0.333\n",
            "\t Val. Loss: 0.379\n",
            "Epoch: 17 | Time: 0m 3s\n",
            "\tTrain Loss: 0.330\n",
            "\t Val. Loss: 0.382\n",
            "Epoch: 18 | Time: 0m 3s\n",
            "\tTrain Loss: 0.329\n",
            "\t Val. Loss: 0.381\n",
            "Epoch: 19 | Time: 0m 3s\n",
            "\tTrain Loss: 0.329\n",
            "\t Val. Loss: 0.372\n",
            "Epoch: 20 | Time: 0m 3s\n",
            "\tTrain Loss: 0.328\n",
            "\t Val. Loss: 0.376\n"
          ]
        }
      ],
      "source": [
        "N_EPOCHS = 20\n",
        "\n",
        "best_valid_loss = float('inf')\n",
        "\n",
        "for epoch in range(N_EPOCHS):\n",
        "\n",
        "    start_time = time.time()\n",
        "\n",
        "    train_loss = train(model, train_dataset, optimizer, criterion)\n",
        "    valid_loss = evaluate(model, validation_dataset, criterion)\n",
        "\n",
        "    end_time = time.time()\n",
        "\n",
        "    epoch_mins, epoch_secs = epoch_time(start_time, end_time)\n",
        "\n",
        "    if valid_loss < best_valid_loss:\n",
        "        best_valid_loss = valid_loss\n",
        "        torch.save(model.state_dict(), 'my-model.pt')\n",
        "\n",
        "    print(f'Epoch: {epoch+1:02} | Time: {epoch_mins}m {epoch_secs}s')\n",
        "    print(f'\\tTrain Loss: {train_loss:.3f}')\n",
        "    print(f'\\t Val. Loss: {valid_loss:.3f}')"
      ]
    },
    {
      "cell_type": "code",
      "execution_count": null,
      "metadata": {
        "id": "PiHHKhZoJMAN",
        "colab": {
          "base_uri": "https://localhost:8080/"
        },
        "outputId": "5aa8c402-0362-48a5-889e-425c99c21a3b"
      },
      "outputs": [
        {
          "output_type": "stream",
          "name": "stdout",
          "text": [
            "| Test Loss: 0.370\n"
          ]
        }
      ],
      "source": [
        "model.load_state_dict(torch.load('my-model.pt'))\n",
        "\n",
        "test_loss = evaluate(model, test_dataset, criterion)\n",
        "\n",
        "print(f'| Test Loss: {test_loss:.3f}')"
      ]
    },
    {
      "cell_type": "code",
      "source": [
        "w = [0,0,0,0,0,0,0,0,0,0,0,0,0,0,0,0,0,0,0,0,0,0,0,0,0,0,0,0]\n",
        "TP = [0,0,0,0,0,0,0,0,0,0,0,0,0,0,0,0,0,0,0,0,0,0,0,0,0,0,0,0]\n",
        "TN = [0,0,0,0,0,0,0,0,0,0,0,0,0,0,0,0,0,0,0,0,0,0,0,0,0,0,0,0]\n",
        "FP = [0,0,0,0,0,0,0,0,0,0,0,0,0,0,0,0,0,0,0,0,0,0,0,0,0,0,0,0]\n",
        "FN = [0,0,0,0,0,0,0,0,0,0,0,0,0,0,0,0,0,0,0,0,0,0,0,0,0,0,0,0]\n",
        "def assign_f1 (pred_, label_):\n",
        "  for pred, label in zip(pred_, label_): # for each batch\n",
        "    for i in range(len(pred)):\n",
        "      if label[i] == 1: # count true instances\n",
        "        w[i] += 1\n",
        "      if pred[i] == 1 and pred[i] == label[i]: # TP\n",
        "        TP[i] += 1\n",
        "      elif pred[i] == 1 and pred[i] != label[i]: # FP\n",
        "        FP[i] += 1\n",
        "      elif pred[i] == 0 and pred[i] == label[i]: # TN\n",
        "        TN[i] += 1\n",
        "      else: # FN\n",
        "        FN[i] += 1\n",
        "\n",
        "def get_f1_score (is_weighted):\n",
        "  precision = [0,0,0,0,0,0,0,0,0,0,0,0,0,0,0,0,0,0,0,0,0,0,0,0,0,0,0,0]\n",
        "  recall = [0,0,0,0,0,0,0,0,0,0,0,0,0,0,0,0,0,0,0,0,0,0,0,0,0,0,0,0]\n",
        "  F1 = [0,0,0,0,0,0,0,0,0,0,0,0,0,0,0,0,0,0,0,0,0,0,0,0,0,0,0,0]\n",
        "  for i in range(len(TP)):\n",
        "    if (TP[i] != 0):\n",
        "      precision[i] = TP[i] / (TP[i] + FP[i])\n",
        "      recall[i] = TP[i] / (TP[i] + FN[i])\n",
        "      F1[i] = 2*precision[i]*recall[i] / (precision[i] + recall[i])\n",
        "  tot_precision = 0\n",
        "  tot_recall = 0\n",
        "  tot_f1_score = 0\n",
        "  if (is_weighted):\n",
        "    s = sum(w)\n",
        "    for i in range(len(w)):\n",
        "      weight = w[i]/s\n",
        "      tot_precision += weight * precision[i]\n",
        "      tot_recall += weight * recall[i]\n",
        "      tot_f1_score += weight * F1[i]\n",
        "  else:\n",
        "    l = 6\n",
        "    tot_precision = sum(precision) / l\n",
        "    tot_recall = sum(recall) / l\n",
        "    tot_f1_score = sum(F1) / l\n",
        "  return tot_precision, tot_recall, tot_f1_score"
      ],
      "metadata": {
        "id": "BDfLzV1t88i0"
      },
      "execution_count": null,
      "outputs": []
    },
    {
      "cell_type": "code",
      "source": [
        "def evaluate_f1(iterator, model, threshold=0.5, is_weighted=True):\n",
        "    model.eval()\n",
        "\n",
        "    with torch.no_grad():\n",
        "        check = 0\n",
        "        for batch in iterator:\n",
        "            src = batch.src\n",
        "            trg = batch.trg\n",
        "\n",
        "            output = model(src)\n",
        "            output = torch.sigmoid(output)\n",
        "            predicted = (output > threshold).int()\n",
        "\n",
        "            labels = trg.int()\n",
        "            assign_f1(predicted.tolist(), labels.tolist())\n",
        "\n",
        "    precision, recall, f1 = get_f1_score(is_weighted) # weighted\n",
        "\n",
        "    return precision, recall, f1\n",
        "\n",
        "boolean = True\n",
        "precision, recall, f1 = evaluate_f1(test_dataset, model, 0.5, boolean)\n",
        "print(f\"Precision: {precision:.4f}\")\n",
        "print(f\"Recall: {recall:.4f}\")\n",
        "print(f\"F1 Score: {f1:.4f}\")"
      ],
      "metadata": {
        "id": "fnen8kp89ARN",
        "colab": {
          "base_uri": "https://localhost:8080/"
        },
        "outputId": "63fed052-ba03-433f-817a-a232cee32422"
      },
      "execution_count": null,
      "outputs": [
        {
          "output_type": "stream",
          "name": "stdout",
          "text": [
            "Precision: 0.6383\n",
            "Recall: 0.2380\n",
            "F1 Score: 0.3299\n"
          ]
        }
      ]
    },
    {
      "cell_type": "code",
      "source": [
        "precision, recall, f1 = evaluate_f1(test_dataset, model, 0.2)\n",
        "print(f\"Precision: {precision:.4f}\")\n",
        "print(f\"Recall: {recall:.4f}\")\n",
        "print(f\"F1 Score: {f1:.4f}\")"
      ],
      "metadata": {
        "id": "VMMririA-T_u",
        "colab": {
          "base_uri": "https://localhost:8080/"
        },
        "outputId": "561d11c2-2af6-4472-c6ce-a3f891850638"
      },
      "execution_count": null,
      "outputs": [
        {
          "output_type": "stream",
          "name": "stdout",
          "text": [
            "Precision: 0.4140\n",
            "Recall: 0.4384\n",
            "F1 Score: 0.4044\n"
          ]
        }
      ]
    },
    {
      "cell_type": "code",
      "source": [
        "precision, recall, f1 = evaluate_f1(test_dataset, model, 0.1)\n",
        "print(f\"Precision: {precision:.4f}\")\n",
        "print(f\"Recall: {recall:.4f}\")\n",
        "print(f\"F1 Score: {f1:.4f}\")"
      ],
      "metadata": {
        "id": "L2vds2LPkb6V",
        "colab": {
          "base_uri": "https://localhost:8080/"
        },
        "outputId": "f8c0d190-90fb-4eba-f07f-39de19093a7f"
      },
      "execution_count": null,
      "outputs": [
        {
          "output_type": "stream",
          "name": "stdout",
          "text": [
            "Precision: 0.3287\n",
            "Recall: 0.5654\n",
            "F1 Score: 0.4123\n"
          ]
        }
      ]
    },
    {
      "cell_type": "code",
      "source": [
        "print(w)"
      ],
      "metadata": {
        "id": "haHHVQSv9ofe",
        "colab": {
          "base_uri": "https://localhost:8080/"
        },
        "outputId": "f2a63a53-2996-492c-e767-be9b52e00ec4"
      },
      "execution_count": null,
      "outputs": [
        {
          "output_type": "stream",
          "name": "stdout",
          "text": [
            "[4389, 5031, 1302, 1941, 1833, 504, 0, 0, 0, 0, 0, 0, 0, 0, 0, 0, 0, 0, 0, 0, 0, 0, 0, 0, 0, 0, 0, 0]\n"
          ]
        }
      ]
    },
    {
      "cell_type": "code",
      "execution_count": null,
      "metadata": {
        "id": "wAW4uEuSsI_m"
      },
      "outputs": [],
      "source": [
        "import matplotlib.pyplot as plt\n",
        "import matplotlib.ticker as ticker"
      ]
    },
    {
      "cell_type": "code",
      "source": [
        "sentiment = ['sadness', 'joy', 'love', 'anger', 'fear', 'surprise']"
      ],
      "metadata": {
        "id": "MUoTLO2T4OyZ"
      },
      "execution_count": null,
      "outputs": []
    },
    {
      "cell_type": "code",
      "execution_count": null,
      "metadata": {
        "id": "BONaM6EGsxui"
      },
      "outputs": [],
      "source": [
        "def classify_sentence(sentence, model, device, max_len = 50):\n",
        "\n",
        "    model.eval()\n",
        "\n",
        "    chars = [char_stoi[c] for c in sentence] # path[1] is sentence index\n",
        "    if len(chars) > 36:\n",
        "      chars = chars[:36]\n",
        "    diff = 36 - len(chars)\n",
        "    for i in range(diff):\n",
        "      chars.append(0)\n",
        "    src = torch.tensor([chars], device=device)\n",
        "    sentiment = model(src)\n",
        "\n",
        "    return sentiment"
      ]
    },
    {
      "cell_type": "code",
      "execution_count": null,
      "metadata": {
        "id": "Lu3776A0siRi"
      },
      "outputs": [],
      "source": [
        "def display_sentiment(sentence):\n",
        "    global sentiment, model, device\n",
        "    res = classify_sentence(sentence, model, device)\n",
        "    res = nn.functional.softmax(res, -1).squeeze().tolist()\n",
        "    res = [int(1000*d)/1000 for d in res]\n",
        "\n",
        "    fig = plt.figure(figsize=(6, 4))\n",
        "    ax = fig.add_subplot(1, 1, 1)\n",
        "    ax.bar(sentiment, res)\n",
        "    ax.set_xticklabels(ax.get_xticklabels(), rotation=60, ha='right')\n",
        "    plt.show()\n",
        "    plt.close()"
      ]
    },
    {
      "cell_type": "code",
      "execution_count": null,
      "metadata": {
        "id": "eBbKRpGLskf1",
        "colab": {
          "base_uri": "https://localhost:8080/",
          "height": 445
        },
        "outputId": "936c68b9-a72f-4019-e19c-9889114c0896"
      },
      "outputs": [
        {
          "output_type": "stream",
          "name": "stderr",
          "text": [
            "<ipython-input-68-44e9039f977b>:10: UserWarning: FixedFormatter should only be used together with FixedLocator\n",
            "  ax.set_xticklabels(ax.get_xticklabels(), rotation=60, ha='right')\n"
          ]
        },
        {
          "output_type": "display_data",
          "data": {
            "text/plain": [
              "<Figure size 600x400 with 1 Axes>"
            ],
            "image/png": "[encoded data removed]"
          },
          "metadata": {}
        }
      ],
      "source": [
        "display_sentiment(\"i hope i can do well\")"
      ]
    },
    {
      "cell_type": "code",
      "execution_count": null,
      "metadata": {
        "id": "PNEqcDoxt_lt",
        "colab": {
          "base_uri": "https://localhost:8080/",
          "height": 445
        },
        "outputId": "b4af67c0-74f0-4239-908c-439fedb1ed7b"
      },
      "outputs": [
        {
          "output_type": "stream",
          "name": "stderr",
          "text": [
            "<ipython-input-68-44e9039f977b>:10: UserWarning: FixedFormatter should only be used together with FixedLocator\n",
            "  ax.set_xticklabels(ax.get_xticklabels(), rotation=60, ha='right')\n"
          ]
        },
        {
          "output_type": "display_data",
          "data": {
            "text/plain": [
              "<Figure size 600x400 with 1 Axes>"
            ],
            "image/png": "[encoded data removed]"
          },
          "metadata": {}
        }
      ],
      "source": [
        "display_sentiment(\"i am sure that i can do it\")"
      ]
    },
    {
      "cell_type": "code",
      "execution_count": null,
      "metadata": {
        "id": "8wLNEsfgvG4E",
        "colab": {
          "base_uri": "https://localhost:8080/",
          "height": 445
        },
        "outputId": "609f3f30-4c7a-4e4c-eab1-cb4e98af48d1"
      },
      "outputs": [
        {
          "output_type": "stream",
          "name": "stderr",
          "text": [
            "<ipython-input-68-44e9039f977b>:10: UserWarning: FixedFormatter should only be used together with FixedLocator\n",
            "  ax.set_xticklabels(ax.get_xticklabels(), rotation=60, ha='right')\n"
          ]
        },
        {
          "output_type": "display_data",
          "data": {
            "text/plain": [
              "<Figure size 600x400 with 1 Axes>"
            ],
            "image/png": "[encoded data removed]"
          },
          "metadata": {}
        }
      ],
      "source": [
        "display_sentiment(\"i love myself\")"
      ]
    },
    {
      "cell_type": "code",
      "execution_count": null,
      "metadata": {
        "id": "T1T8hXrDvOQF",
        "colab": {
          "base_uri": "https://localhost:8080/",
          "height": 445
        },
        "outputId": "118e6a38-72da-43b3-ebef-ac908344626a"
      },
      "outputs": [
        {
          "output_type": "stream",
          "name": "stderr",
          "text": [
            "<ipython-input-68-44e9039f977b>:10: UserWarning: FixedFormatter should only be used together with FixedLocator\n",
            "  ax.set_xticklabels(ax.get_xticklabels(), rotation=60, ha='right')\n"
          ]
        },
        {
          "output_type": "display_data",
          "data": {
            "text/plain": [
              "<Figure size 600x400 with 1 Axes>"
            ],
            "image/png": "[encoded data removed]"
          },
          "metadata": {}
        }
      ],
      "source": [
        "display_sentiment(\"this is fun\")"
      ]
    },
    {
      "cell_type": "code",
      "source": [
        "display_sentiment(\"this is not fun\")"
      ],
      "metadata": {
        "colab": {
          "base_uri": "https://localhost:8080/",
          "height": 447
        },
        "id": "3AoSHWplbLmv",
        "outputId": "e5b857a8-7ad5-4838-82e8-f6f1fd9fb4ee"
      },
      "execution_count": null,
      "outputs": [
        {
          "output_type": "stream",
          "name": "stderr",
          "text": [
            "<ipython-input-68-44e9039f977b>:10: UserWarning: FixedFormatter should only be used together with FixedLocator\n",
            "  ax.set_xticklabels(ax.get_xticklabels(), rotation=60, ha='right')\n"
          ]
        },
        {
          "output_type": "display_data",
          "data": {
            "text/plain": [
              "<Figure size 600x400 with 1 Axes>"
            ],
            "image/png": "[encoded data removed]"
          },
          "metadata": {}
        }
      ]
    },
    {
      "cell_type": "code",
      "execution_count": null,
      "metadata": {
        "id": "_GtMoRaavSJc",
        "colab": {
          "base_uri": "https://localhost:8080/",
          "height": 445
        },
        "outputId": "bca454e8-75e1-49c4-c43d-9fbaee99f7a4"
      },
      "outputs": [
        {
          "output_type": "stream",
          "name": "stderr",
          "text": [
            "<ipython-input-68-44e9039f977b>:10: UserWarning: FixedFormatter should only be used together with FixedLocator\n",
            "  ax.set_xticklabels(ax.get_xticklabels(), rotation=60, ha='right')\n"
          ]
        },
        {
          "output_type": "display_data",
          "data": {
            "text/plain": [
              "<Figure size 600x400 with 1 Axes>"
            ],
            "image/png": "[encoded data removed]"
          },
          "metadata": {}
        }
      ],
      "source": [
        "display_sentiment(\"i don t want to have a bad dream anymore\")"
      ]
    },
    {
      "cell_type": "code",
      "execution_count": null,
      "metadata": {
        "id": "y2VMqtUdvZOf",
        "colab": {
          "base_uri": "https://localhost:8080/",
          "height": 445
        },
        "outputId": "6383227e-2087-4fa6-f255-2e2a36779b02"
      },
      "outputs": [
        {
          "output_type": "stream",
          "name": "stderr",
          "text": [
            "<ipython-input-68-44e9039f977b>:10: UserWarning: FixedFormatter should only be used together with FixedLocator\n",
            "  ax.set_xticklabels(ax.get_xticklabels(), rotation=60, ha='right')\n"
          ]
        },
        {
          "output_type": "display_data",
          "data": {
            "text/plain": [
              "<Figure size 600x400 with 1 Axes>"
            ],
            "image/png": "[encoded data removed]"
          },
          "metadata": {}
        }
      ],
      "source": [
        "display_sentiment(\"i don t want to have a bad dream\")"
      ]
    },
    {
      "cell_type": "code",
      "execution_count": null,
      "metadata": {
        "id": "Rr7bLuWDvira",
        "colab": {
          "base_uri": "https://localhost:8080/",
          "height": 449
        },
        "outputId": "31c97c12-10b1-4965-be71-c4b9e2cb2376"
      },
      "outputs": [
        {
          "output_type": "stream",
          "name": "stderr",
          "text": [
            "<ipython-input-68-44e9039f977b>:10: UserWarning: FixedFormatter should only be used together with FixedLocator\n",
            "  ax.set_xticklabels(ax.get_xticklabels(), rotation=60, ha='right')\n"
          ]
        },
        {
          "output_type": "display_data",
          "data": {
            "text/plain": [
              "<Figure size 600x400 with 1 Axes>"
            ],
            "image/png": "[encoded data removed]"
          },
          "metadata": {}
        }
      ],
      "source": [
        "display_sentiment(\"her heart swelled with joy as she watched the sunset its vibrant colors painting the sky in a breathtaking display\")"
      ]
    },
    {
      "cell_type": "code",
      "source": [
        "display_sentiment(\"happy\")"
      ],
      "metadata": {
        "colab": {
          "base_uri": "https://localhost:8080/",
          "height": 445
        },
        "id": "8ytakKtQYiXd",
        "outputId": "cf007ae0-acd9-4d6c-8e2d-1285187f99c2"
      },
      "execution_count": null,
      "outputs": [
        {
          "output_type": "stream",
          "name": "stderr",
          "text": [
            "<ipython-input-68-44e9039f977b>:10: UserWarning: FixedFormatter should only be used together with FixedLocator\n",
            "  ax.set_xticklabels(ax.get_xticklabels(), rotation=60, ha='right')\n"
          ]
        },
        {
          "output_type": "display_data",
          "data": {
            "text/plain": [
              "<Figure size 600x400 with 1 Axes>"
            ],
            "image/png": "[encoded data removed]"
          },
          "metadata": {}
        }
      ]
    },
    {
      "cell_type": "code",
      "source": [
        "display_sentiment(\"not happy\")"
      ],
      "metadata": {
        "colab": {
          "base_uri": "https://localhost:8080/",
          "height": 445
        },
        "id": "LljP57QsYqGF",
        "outputId": "170c51b4-171b-4909-ea8c-0206667345de"
      },
      "execution_count": null,
      "outputs": [
        {
          "output_type": "stream",
          "name": "stderr",
          "text": [
            "<ipython-input-68-44e9039f977b>:10: UserWarning: FixedFormatter should only be used together with FixedLocator\n",
            "  ax.set_xticklabels(ax.get_xticklabels(), rotation=60, ha='right')\n"
          ]
        },
        {
          "output_type": "display_data",
          "data": {
            "text/plain": [
              "<Figure size 600x400 with 1 Axes>"
            ],
            "image/png": "[encoded data removed]"
          },
          "metadata": {}
        }
      ]
    },
    {
      "cell_type": "code",
      "execution_count": null,
      "metadata": {
        "id": "iFjV4D2NwB0l",
        "colab": {
          "base_uri": "https://localhost:8080/",
          "height": 287
        },
        "outputId": "deb0e9a6-4ef7-4e5e-d6a9-6099c1b47b8f"
      },
      "outputs": [
        {
          "output_type": "error",
          "ename": "KeyError",
          "evalue": "'V'",
          "traceback": [
            "\u001b[0;31m---------------------------------------------------------------------------\u001b[0m",
            "\u001b[0;31mKeyError\u001b[0m                                  Traceback (most recent call last)",
            "\u001b[0;32m<ipython-input-79-ac1018ed6f07>\u001b[0m in \u001b[0;36m<cell line: 1>\u001b[0;34m()\u001b[0m\n\u001b[0;32m----> 1\u001b[0;31m \u001b[0mdisplay_sentiment\u001b[0m\u001b[0;34m(\u001b[0m\u001b[0;34m\"Very very nice to see this irl. Nice post\"\u001b[0m\u001b[0;34m)\u001b[0m\u001b[0;34m\u001b[0m\u001b[0;34m\u001b[0m\u001b[0m\n\u001b[0m",
            "\u001b[0;32m<ipython-input-68-44e9039f977b>\u001b[0m in \u001b[0;36mdisplay_sentiment\u001b[0;34m(sentence)\u001b[0m\n\u001b[1;32m      1\u001b[0m \u001b[0;32mdef\u001b[0m \u001b[0mdisplay_sentiment\u001b[0m\u001b[0;34m(\u001b[0m\u001b[0msentence\u001b[0m\u001b[0;34m)\u001b[0m\u001b[0;34m:\u001b[0m\u001b[0;34m\u001b[0m\u001b[0;34m\u001b[0m\u001b[0m\n\u001b[1;32m      2\u001b[0m     \u001b[0;32mglobal\u001b[0m \u001b[0msentiment\u001b[0m\u001b[0;34m,\u001b[0m \u001b[0mmodel\u001b[0m\u001b[0;34m,\u001b[0m \u001b[0mdevice\u001b[0m\u001b[0;34m\u001b[0m\u001b[0;34m\u001b[0m\u001b[0m\n\u001b[0;32m----> 3\u001b[0;31m     \u001b[0mres\u001b[0m \u001b[0;34m=\u001b[0m \u001b[0mclassify_sentence\u001b[0m\u001b[0;34m(\u001b[0m\u001b[0msentence\u001b[0m\u001b[0;34m,\u001b[0m \u001b[0mmodel\u001b[0m\u001b[0;34m,\u001b[0m \u001b[0mdevice\u001b[0m\u001b[0;34m)\u001b[0m\u001b[0;34m\u001b[0m\u001b[0;34m\u001b[0m\u001b[0m\n\u001b[0m\u001b[1;32m      4\u001b[0m     \u001b[0mres\u001b[0m \u001b[0;34m=\u001b[0m \u001b[0mnn\u001b[0m\u001b[0;34m.\u001b[0m\u001b[0mfunctional\u001b[0m\u001b[0;34m.\u001b[0m\u001b[0msoftmax\u001b[0m\u001b[0;34m(\u001b[0m\u001b[0mres\u001b[0m\u001b[0;34m,\u001b[0m \u001b[0;34m-\u001b[0m\u001b[0;36m1\u001b[0m\u001b[0;34m)\u001b[0m\u001b[0;34m.\u001b[0m\u001b[0msqueeze\u001b[0m\u001b[0;34m(\u001b[0m\u001b[0;34m)\u001b[0m\u001b[0;34m.\u001b[0m\u001b[0mtolist\u001b[0m\u001b[0;34m(\u001b[0m\u001b[0;34m)\u001b[0m\u001b[0;34m\u001b[0m\u001b[0;34m\u001b[0m\u001b[0m\n\u001b[1;32m      5\u001b[0m     \u001b[0mres\u001b[0m \u001b[0;34m=\u001b[0m \u001b[0;34m[\u001b[0m\u001b[0mint\u001b[0m\u001b[0;34m(\u001b[0m\u001b[0;36m1000\u001b[0m\u001b[0;34m*\u001b[0m\u001b[0md\u001b[0m\u001b[0;34m)\u001b[0m\u001b[0;34m/\u001b[0m\u001b[0;36m1000\u001b[0m \u001b[0;32mfor\u001b[0m \u001b[0md\u001b[0m \u001b[0;32min\u001b[0m \u001b[0mres\u001b[0m\u001b[0;34m]\u001b[0m\u001b[0;34m\u001b[0m\u001b[0;34m\u001b[0m\u001b[0m\n",
            "\u001b[0;32m<ipython-input-67-dcd603996b54>\u001b[0m in \u001b[0;36mclassify_sentence\u001b[0;34m(sentence, model, device, max_len)\u001b[0m\n\u001b[1;32m      3\u001b[0m     \u001b[0mmodel\u001b[0m\u001b[0;34m.\u001b[0m\u001b[0meval\u001b[0m\u001b[0;34m(\u001b[0m\u001b[0;34m)\u001b[0m\u001b[0;34m\u001b[0m\u001b[0;34m\u001b[0m\u001b[0m\n\u001b[1;32m      4\u001b[0m \u001b[0;34m\u001b[0m\u001b[0m\n\u001b[0;32m----> 5\u001b[0;31m     \u001b[0mchars\u001b[0m \u001b[0;34m=\u001b[0m \u001b[0;34m[\u001b[0m\u001b[0mchar_stoi\u001b[0m\u001b[0;34m[\u001b[0m\u001b[0mc\u001b[0m\u001b[0;34m]\u001b[0m \u001b[0;32mfor\u001b[0m \u001b[0mc\u001b[0m \u001b[0;32min\u001b[0m \u001b[0msentence\u001b[0m\u001b[0;34m]\u001b[0m \u001b[0;31m# path[1] is sentence index\u001b[0m\u001b[0;34m\u001b[0m\u001b[0;34m\u001b[0m\u001b[0m\n\u001b[0m\u001b[1;32m      6\u001b[0m     \u001b[0;32mif\u001b[0m \u001b[0mlen\u001b[0m\u001b[0;34m(\u001b[0m\u001b[0mchars\u001b[0m\u001b[0;34m)\u001b[0m \u001b[0;34m>\u001b[0m \u001b[0;36m36\u001b[0m\u001b[0;34m:\u001b[0m\u001b[0;34m\u001b[0m\u001b[0;34m\u001b[0m\u001b[0m\n\u001b[1;32m      7\u001b[0m       \u001b[0mchars\u001b[0m \u001b[0;34m=\u001b[0m \u001b[0mchars\u001b[0m\u001b[0;34m[\u001b[0m\u001b[0;34m:\u001b[0m\u001b[0;36m36\u001b[0m\u001b[0;34m]\u001b[0m\u001b[0;34m\u001b[0m\u001b[0;34m\u001b[0m\u001b[0m\n",
            "\u001b[0;32m<ipython-input-67-dcd603996b54>\u001b[0m in \u001b[0;36m<listcomp>\u001b[0;34m(.0)\u001b[0m\n\u001b[1;32m      3\u001b[0m     \u001b[0mmodel\u001b[0m\u001b[0;34m.\u001b[0m\u001b[0meval\u001b[0m\u001b[0;34m(\u001b[0m\u001b[0;34m)\u001b[0m\u001b[0;34m\u001b[0m\u001b[0;34m\u001b[0m\u001b[0m\n\u001b[1;32m      4\u001b[0m \u001b[0;34m\u001b[0m\u001b[0m\n\u001b[0;32m----> 5\u001b[0;31m     \u001b[0mchars\u001b[0m \u001b[0;34m=\u001b[0m \u001b[0;34m[\u001b[0m\u001b[0mchar_stoi\u001b[0m\u001b[0;34m[\u001b[0m\u001b[0mc\u001b[0m\u001b[0;34m]\u001b[0m \u001b[0;32mfor\u001b[0m \u001b[0mc\u001b[0m \u001b[0;32min\u001b[0m \u001b[0msentence\u001b[0m\u001b[0;34m]\u001b[0m \u001b[0;31m# path[1] is sentence index\u001b[0m\u001b[0;34m\u001b[0m\u001b[0;34m\u001b[0m\u001b[0m\n\u001b[0m\u001b[1;32m      6\u001b[0m     \u001b[0;32mif\u001b[0m \u001b[0mlen\u001b[0m\u001b[0;34m(\u001b[0m\u001b[0mchars\u001b[0m\u001b[0;34m)\u001b[0m \u001b[0;34m>\u001b[0m \u001b[0;36m36\u001b[0m\u001b[0;34m:\u001b[0m\u001b[0;34m\u001b[0m\u001b[0;34m\u001b[0m\u001b[0m\n\u001b[1;32m      7\u001b[0m       \u001b[0mchars\u001b[0m \u001b[0;34m=\u001b[0m \u001b[0mchars\u001b[0m\u001b[0;34m[\u001b[0m\u001b[0;34m:\u001b[0m\u001b[0;36m36\u001b[0m\u001b[0;34m]\u001b[0m\u001b[0;34m\u001b[0m\u001b[0;34m\u001b[0m\u001b[0m\n",
            "\u001b[0;31mKeyError\u001b[0m: 'V'"
          ]
        }
      ],
      "source": [
        "display_sentiment(\"Very very nice to see this irl. Nice post\")"
      ]
    },
    {
      "cell_type": "code",
      "execution_count": null,
      "metadata": {
        "id": "QmafxoqOwKzt"
      },
      "outputs": [],
      "source": [
        "display_sentiment(\"OMG! I need to make these. This looks so good!\")"
      ]
    },
    {
      "cell_type": "code",
      "execution_count": null,
      "metadata": {
        "id": "KeIpCnKfw0qo"
      },
      "outputs": [],
      "source": [
        "display_sentiment(\"thank you for helping me\")"
      ]
    },
    {
      "cell_type": "code",
      "execution_count": null,
      "metadata": {
        "id": "ppuVq803xGKD"
      },
      "outputs": [],
      "source": [
        "display_sentiment(\"i should have finished earlier\")"
      ]
    },
    {
      "cell_type": "code",
      "execution_count": null,
      "metadata": {
        "id": "1vQls4fpxMMO"
      },
      "outputs": [],
      "source": [
        "def display(data):\n",
        "    global sentiment, model, device\n",
        "    res = data\n",
        "    res = [int(1000*d)/1000 for d in res]\n",
        "\n",
        "    fig = plt.figure(figsize=(6, 4))\n",
        "    ax = fig.add_subplot(1, 1, 1)\n",
        "    ax.bar(sentiment, res)\n",
        "    ax.set_xticklabels(ax.get_xticklabels(), rotation=60, ha='right')\n",
        "    plt.show()\n",
        "    plt.close()\n",
        "display(w)"
      ]
    },
    {
      "cell_type": "code",
      "source": [],
      "metadata": {
        "id": "0bfVM5Xybxmr"
      },
      "execution_count": null,
      "outputs": []
    }
  ],
  "metadata": {
    "accelerator": "GPU",
    "colab": {
      "gpuType": "L4",
      "provenance": [],
      "include_colab_link": true
    },
    "kernelspec": {
      "display_name": "Python 3",
      "name": "python3"
    },
    "language_info": {
      "codemirror_mode": {
        "name": "ipython",
        "version": 3
      },
      "file_extension": ".py",
      "mimetype": "text/x-python",
      "name": "python",
      "nbconvert_exporter": "python",
      "pygments_lexer": "ipython3",
      "version": "3.6.8"
    }
  },
  "nbformat": 4,
  "nbformat_minor": 0
}